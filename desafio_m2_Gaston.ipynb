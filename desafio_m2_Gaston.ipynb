{
 "cells": [
  {
   "cell_type": "code",
   "execution_count": 1,
   "metadata": {},
   "outputs": [],
   "source": [
    "# importo librerias que voy a usar\n",
    "import pandas as pd\n",
    "import numpy as np\n",
    "import matplotlib as mpl\n",
    "import matplotlib.pyplot as plt\n",
    "import seaborn as sns \n",
    "pd.set_option('display.max_columns', None)\n",
    "import re"
   ]
  },
  {
   "cell_type": "code",
   "execution_count": 2,
   "metadata": {},
   "outputs": [],
   "source": [
    "# leo el data set\n",
    "data = pd.read_csv(\"properati.csv\")"
   ]
  },
  {
   "cell_type": "code",
   "execution_count": 3,
   "metadata": {},
   "outputs": [
    {
     "data": {
      "text/plain": [
       "(121220, 26)"
      ]
     },
     "execution_count": 3,
     "metadata": {},
     "output_type": "execute_result"
    }
   ],
   "source": [
    "# veo el tamaño del data set\n",
    "data.shape"
   ]
  },
  {
   "cell_type": "code",
   "execution_count": 4,
   "metadata": {},
   "outputs": [
    {
     "data": {
      "text/plain": [
       "Unnamed: 0                    0.000000\n",
       "operation                     0.000000\n",
       "property_type                 0.000000\n",
       "place_name                    0.000190\n",
       "place_with_parent_names       0.000000\n",
       "country_name                  0.000000\n",
       "state_name                    0.000000\n",
       "geonames_id                   0.154405\n",
       "lat-lon                       0.425260\n",
       "lat                           0.425260\n",
       "lon                           0.425260\n",
       "price                         0.168372\n",
       "currency                      0.168380\n",
       "price_aprox_local_currency    0.168372\n",
       "price_aprox_usd               0.168372\n",
       "surface_total_in_m2           0.324435\n",
       "surface_covered_in_m2         0.164222\n",
       "price_usd_per_m2              0.433947\n",
       "price_per_m2                  0.276869\n",
       "floor                         0.934837\n",
       "rooms                         0.609058\n",
       "expenses                      0.882346\n",
       "properati_url                 0.000000\n",
       "description                   0.000016\n",
       "title                         0.000000\n",
       "image_thumbnail               0.025672\n",
       "price_dolar                   0.168372\n",
       "ambientes                     0.609058\n",
       "price_m2_dolar                0.433947\n",
       "dtype: float64"
      ]
     },
     "execution_count": 4,
     "metadata": {},
     "output_type": "execute_result"
    }
   ],
   "source": [
    "# veo porcentaje de nulos y agrego nuevas columnas al data frame que voy a modificar mas tarde\n",
    "data['price_dolar'] = data['price_aprox_usd'].copy()\n",
    "data[\"ambientes\"] = data['rooms'].copy()\n",
    "data[\"price_m2_dolar\"] = data['price_usd_per_m2'].copy()\n",
    "pct_nulos = data.isnull().sum() / data.shape[0]\n",
    "pct_nulos"
   ]
  },
  {
   "cell_type": "markdown",
   "metadata": {},
   "source": [
    "## Veo la cantidad de duplicados"
   ]
  },
  {
   "cell_type": "code",
   "execution_count": 5,
   "metadata": {},
   "outputs": [
    {
     "name": "stdout",
     "output_type": "stream",
     "text": [
      "cantidad de duplicados a borrar 6069\n",
      "si saco la descripcion, podria borrar 13873\n"
     ]
    }
   ],
   "source": [
    "# veo cunatos duplicados voy a borrar \n",
    "desc_dupl = data.duplicated(subset=[\"property_type\",\"place_name\",\"geonames_id\",\"lat-lon\",\"price\",\"surface_total_in_m2\",\"surface_covered_in_m2\",\"description\"])\n",
    "print(\"cantidad de duplicados a borrar\", desc_dupl.sum())\n",
    "sindesc_dupl = data.duplicated(subset=[\"property_type\",\"place_name\",\"geonames_id\",\"lat-lon\",\"price\",\"surface_total_in_m2\",\"surface_covered_in_m2\"])\n",
    "print(\"si saco la descripcion, podria borrar\",sindesc_dupl.sum())"
   ]
  },
  {
   "cell_type": "code",
   "execution_count": 6,
   "metadata": {},
   "outputs": [
    {
     "data": {
      "text/plain": [
       "102    Tucuman 3476Edificio PB y 4 pisos por ascensor...\n",
       "196    VENTA DE DEPARTAMENTO EN EDIFICIO A ESTRENAR E...\n",
       "217    Zona residencial consolidad; con oferta gastro...\n",
       "243    Departamento de un ambiente al contrafrente co...\n",
       "459    Corredor Responsable: Mauro Marvisi - CMCPSI 5...\n",
       "Name: description, dtype: object"
      ]
     },
     "execution_count": 6,
     "metadata": {},
     "output_type": "execute_result"
    }
   ],
   "source": [
    "# me fijo cuales son los que son duplicados sin la descripcion y que no estan en los duplicados que incluyen la descripcion\n",
    "data.description[sindesc_dupl &  ~desc_dupl].head()"
   ]
  },
  {
   "cell_type": "code",
   "execution_count": 7,
   "metadata": {},
   "outputs": [
    {
     "data": {
      "text/plain": [
       "((115151, 29), (121220, 29))"
      ]
     },
     "execution_count": 7,
     "metadata": {},
     "output_type": "execute_result"
    }
   ],
   "source": [
    "# borro los duplicados, que en total son 6 mil. Las columnas que elegi para que se considere que es un duplicado son \"property_type\",\"place_name\",\"geonames_id\",\"lat-lon\",\"price\",\"surface_total_in_m2\",\"surface_covered_in_m2\",\"description\"\n",
    "data1 = data.drop_duplicates(subset=[\"property_type\",\"place_name\",\"geonames_id\",\"lat-lon\",\"price\",\"surface_total_in_m2\",\"surface_covered_in_m2\",\"description\"],keep=\"first\")\n",
    "data1.shape,data.shape"
   ]
  },
  {
   "cell_type": "markdown",
   "metadata": {},
   "source": [
    "## Veo las columnas referidas al precio"
   ]
  },
  {
   "cell_type": "code",
   "execution_count": 8,
   "metadata": {},
   "outputs": [
    {
     "name": "stdout",
     "output_type": "stream",
     "text": [
      "cantidad de filas en data1: 115151\n",
      "Si ambos tiene la misma cantidad de nulos y estan en las misma filas, al comparar price.isnull() == price_aprox_usd.isnull() y sumar los true deberia dar la mismas filas que el data frame: 115151\n",
      "Si ambos tiene la misma cantidad de nulos y estan en las misma filas, al comparar price.isnull() == price_aprox_local_currency.isnull() y sumar los true deberia dar la mismas filas que el data frame: 115151\n"
     ]
    }
   ],
   "source": [
    "#me fijo si los nulos son iguales en las columnas de precios. \n",
    "print(\"cantidad de filas en data1:\",data1.shape[0])\n",
    "print(\"Si ambos tiene la misma cantidad de nulos y estan en las misma filas, al comparar price.isnull() == price_aprox_usd.isnull() y sumar los true deberia dar la mismas filas que el data frame:\",(data1.price.isnull() == data1.price_aprox_usd.isnull()).sum())\n",
    "print(\"Si ambos tiene la misma cantidad de nulos y estan en las misma filas, al comparar price.isnull() == price_aprox_local_currency.isnull() y sumar los true deberia dar la mismas filas que el data frame:\",(data1.price.isnull() == data1.price_aprox_local_currency.isnull()).sum())"
   ]
  },
  {
   "cell_type": "code",
   "execution_count": 9,
   "metadata": {},
   "outputs": [
    {
     "data": {
      "text/plain": [
       "True"
      ]
     },
     "execution_count": 9,
     "metadata": {},
     "output_type": "execute_result"
    }
   ],
   "source": [
    "# Me fijo si los nulos estan en la misma fila en ambas columnas, otra forma de lograr lo mismo que la celda anterior pero de forma diferente\n",
    "set(data1.price.isnull().index).issubset(set(data1.price_aprox_usd.isnull().index))\n",
    "set(data1.price.isnull().index).issubset(set(data1.price_aprox_local_currency.isnull().index))"
   ]
  },
  {
   "cell_type": "markdown",
   "metadata": {},
   "source": [
    "## Empiezo a usar regex para completar los precios en dolares "
   ]
  },
  {
   "cell_type": "code",
   "execution_count": 10,
   "metadata": {},
   "outputs": [
    {
     "name": "stdout",
     "output_type": "stream",
     "text": [
      "Cantidad de nulos en la culumna price_aprox_usd: 17269\n"
     ]
    }
   ],
   "source": [
    "print(\"Cantidad de nulos en la culumna price_aprox_usd:\",data1.price_aprox_usd.isnull().sum())"
   ]
  },
  {
   "cell_type": "code",
   "execution_count": 11,
   "metadata": {},
   "outputs": [],
   "source": [
    "# veo si puedo completar algun price nulo por lo que sale en la descripcion\n",
    "mascara = data1.price_aprox_usd.isnull()\n",
    "pd.set_option('display.max_colwidth', None)\n",
    "price_nulo = data1[mascara].copy()"
   ]
  },
  {
   "cell_type": "code",
   "execution_count": 12,
   "metadata": {},
   "outputs": [
    {
     "name": "stderr",
     "output_type": "stream",
     "text": [
      "C:\\ProgramData\\Anaconda3\\envs\\dhdsblend\\lib\\site-packages\\pandas\\core\\indexing.py:966: SettingWithCopyWarning: \n",
      "A value is trying to be set on a copy of a slice from a DataFrame.\n",
      "Try using .loc[row_indexer,col_indexer] = value instead\n",
      "\n",
      "See the caveats in the documentation: https://pandas.pydata.org/pandas-docs/stable/user_guide/indexing.html#returning-a-view-versus-a-copy\n",
      "  self.obj[item] = s\n"
     ]
    }
   ],
   "source": [
    "# veo el precio que hay en dolares en el titulo de la publicacion para completar nulos, con titulos relleno mas de 2000 precios\n",
    "pat_tit1 = r'((([Uu][\\$][Ss]?)|([Uu][Ss\\$][Dd]{1}))+\\s?(?P<precio>\\d{2,3}[\\.,]*\\d{1,3}))'\n",
    "regex_dol = re.compile(pat_tit1)\n",
    "price_dolar_tit = price_nulo.title.apply(lambda x: regex_dol.search(str(x)))\n",
    "price_dolar_tit.notnull().sum()\n",
    "dolares_punto = price_dolar_tit[price_dolar_tit.notnull()].apply(lambda x: x.group('precio')).copy()\n",
    "dolares_limpios = dolares_punto.apply(lambda x: re.compile(\"\\.\").sub(\"\",x))\n",
    "dolares_limpios_final = dolares_punto.apply(lambda x: re.compile(\"\\.\").sub(\"\",x)).copy()\n",
    "data1.loc[dolares_limpios.index,'price_dolar'] = dolares_limpios_final.astype(float).copy()"
   ]
  },
  {
   "cell_type": "code",
   "execution_count": 13,
   "metadata": {},
   "outputs": [
    {
     "data": {
      "text/plain": [
       "(0.13174874729702737, 0.1499683024897743)"
      ]
     },
     "execution_count": 13,
     "metadata": {},
     "output_type": "execute_result"
    }
   ],
   "source": [
    "# logro bajar 2% de nulos \n",
    "data1['price_dolar'].isnull().sum()/ data1.shape[0], data1['price_aprox_usd'].isnull().sum() / data1.shape[0]"
   ]
  },
  {
   "cell_type": "code",
   "execution_count": 14,
   "metadata": {},
   "outputs": [
    {
     "data": {
      "text/plain": [
       "15171"
      ]
     },
     "execution_count": 14,
     "metadata": {},
     "output_type": "execute_result"
    }
   ],
   "source": [
    "# quedaron 15171 nulos en la columna price_dolar\n",
    "pd.set_option('display.max_rows',200)\n",
    "data1[data1['price_dolar'].isnull()].title.sample(200)\n",
    "data1['price_dolar'].isnull().sum()"
   ]
  },
  {
   "cell_type": "markdown",
   "metadata": {},
   "source": [
    "## veo los valores que hay en pesos en la culumna title y description "
   ]
  },
  {
   "cell_type": "code",
   "execution_count": 15,
   "metadata": {},
   "outputs": [
    {
     "data": {
      "text/plain": [
       "172"
      ]
     },
     "execution_count": 15,
     "metadata": {},
     "output_type": "execute_result"
    }
   ],
   "source": [
    "# pat_pesos = r'(([\\$]+)\\s?(?P<precio>\\d{1,3}[\\.,]*\\d{1,3}[\\.,]*\\d{0,3}))'\n",
    "pat_pesos1 = r'(?P<pesos>([\\$]+)\\s?(?P<precio>\\d{0,3}[\\.,]?\\d{3}[\\.,]?\\d{3}))'\n",
    "regexs_peso = re.compile(pat_pesos1)\n",
    "pesos_tit = price_nulo.title.apply(lambda x: regexs_peso.search(str(x)))\n",
    "price_nulo.loc[pesos_tit.notnull(),\"title\"]\n",
    "pesos_tit.notnull().sum()\n",
    "# logro quedarme con 172 precios hay que ver como pasarlos a dolares "
   ]
  },
  {
   "cell_type": "code",
   "execution_count": 16,
   "metadata": {},
   "outputs": [
    {
     "data": {
      "text/plain": [
       "1725                                                                                                                                                                                                                                                                                                                                                                                                                                                                                                                                                                                                                                                                                                                                                                              2 DORMITORIOS Y MEDIO     1 SOLO  BAÑO (NO TIENE BAÑERA)    AMPLIO BALCON QUE UNE TODO EL FRENTE DEL DPTO (ACCESO POR LIVING COMEDOR Y POR EL DORMITORIO    UBICACION FRENTE  ( calle Hilario Fernandez Nueva Cordoba)    COCHERA: NO TIENE    TITULO: BOLETOSin Renta     ENTRADA/SALIDA: TANTO POR PASAJE FERNANDEZ COMO CALLE CRISOL    PISO: 3º    COCINA SEPARADAPrecio $ 1600.000Freiberg Inmuebles 351 5208912  \n",
       "1771                                                                                                                                                                                                                                                                                                                                                                                                                                                                                                                                                                                                                                                                                                                                                                                                aproveche esta oportunidad y sea dueño de su casa, deje de alquilar, compre esta propiedad libre de riesgo, con titulo de propiedad e impuestos al día, zona con servicios necesarios para un mejor vivir: agua corriente, luz, , teléfono, trasporte urbano, sala de primeros auxilios, escuelas,comercios de uso diario. Valor $350.000. Se acepta vehículo parte de pago.-Consultas al cel/wasap 0\n",
       "1839                                                                                                                                                                                                                                                                                                                                                                                                                                                                                                                                                                                                                                                                             Barrio Alta Cordoba, A cuadras de Plaza Rivadavia, sobre Ascasubi, casi esq CatolicaTerreno 430 m2 , casa 200 m2 cubiertos  a reciclarliving, comedor, cocina, cinco dormitorios, dos baños, cochera garage un vehiculo, patiotodos los servicios, todas las lineas de colectivoPrecio de venta $ 1700.000recibe en parte de pago un departamento o casa en barrios Poeta , Magnolias, Marques  ( mejor zona ) , zona Norte, o en Barrio JardinFreiberg 351 5208912  SERVICIO DE TASACION LEY SINCERAMIENTO FISCAL 27260\n",
       "1952                                                                                                                                                                                                                                                                                                                                                                                                                                                                                                                                                                                                                                                                                                                                                                                                                                                                                                                                                                       Inmobiliaria LamarcaDuplex 3 dormit. Lomas del ChateauUS$ 117000.00DETALLES GENERALES Código de ficha: #000000570Superficie cubierta: 125 m2.Superficie terreno: 180 m2.Baños: 3Cantidad dormitorios: 3 DormitoriosDESCRIPCIÓN\n",
       "1970    -PUNTA DEL ESTE: HOUSINGS DE 4 UNIDADES  DE 120 M2 CON TERRENO DE 300 M2 (SAN CAYETANO ESQ.PUNTA DEL ESTE UBICADO AL LADO DE HOUSING CARMELA) PLANTA BAJA LIBRE CON COCINA SEPARADA Y BANO DE VISITA. PLANTA ALTA 2 O 3 DORM CON PLACARD SIN INTERIOR, Y 1 BANO COMPLETO.QUEDAN 2 UNIDADES A LA VENTA, VALOR POZO $ 1.800.000,00 ENTREGA 50% Y 12 CUOTAS, TIEMPO DE ENTREGA 12 MESES A PARTIR DE FEBRERO, SE PUEDE HACER UNA RESERVA Y AHÍ COORDINAR LA ENTREGA Y LAS CUOTAS.EL VALOR DE LAS UNIDADES TERMINADAS VA A RONDAR EN $ 2.500.000,00 ASI MARCANDO UNA GANANCIA A LA INVERSION DE $ 700.000 EN 12 MESES.-HOUSING CARMELA: HOUSINGS DE 4 UNIDADES  DE 120 M2 CON TERRENO DE 300 M2 (SAN CAYETANO ESQ.PUNTA DEL ESTE) PLANTA BAJA LIBRE CON COCINA SEPARADA Y BANO DE VISITA. PLANTA ALTA 2 O 3 DORM CON PLACARD SIN INTERIOR, Y 1 BANO COMPLETO.QUEDAN 2 UNIDADES A LA VENTA, VALOR POZO $ 1.800.000,00 ENTREGA 50% Y 12 CUOTAS, TIEMPO DE ENTREGA 12 MESES A PARTIR DE FEBRERO, SE PUEDE HACER UNA RESERVA Y AHÍ COORDINAR LA ENTREGA Y LAS CUOTAS.EL VALOR DE LAS UNIDADES TERMINADAS VA A RONDAR EN $ 2.500.000,00 ASI MARCANDO UNA GANANCIA A LA INVERSION DE $ 700.000 EN 12 MESES. \n",
       "Name: description, dtype: object"
      ]
     },
     "execution_count": 16,
     "metadata": {},
     "output_type": "execute_result"
    }
   ],
   "source": [
    "# ahora me fijo si en la descripcion hay valores en pesos, tengo que revisar el patron porque toma algunos valores en dolares\n",
    "# data1.price_aprox_local_currency.max()\n",
    "pat_pesos2 = r'(?P<pesos>([\\$]+)\\s?(?P<precio>\\d{0,2}[\\.,]*\\d{3}[\\.,]*\\d{3}))'\n",
    "regex_pesos = re.compile(pat_pesos2)\n",
    "pesos = price_nulo.description.apply(lambda x: regex_pesos.search(str(x)))\n",
    "pesos.notnull().sum()\n",
    "price_nulo[pesos.notnull()].description.head()"
   ]
  },
  {
   "cell_type": "markdown",
   "metadata": {},
   "source": [
    "## Empiezo a completar la columna ambientes"
   ]
  },
  {
   "cell_type": "code",
   "execution_count": 17,
   "metadata": {},
   "outputs": [],
   "source": [
    "# creo un data frame donde los valores de rooms sean nulos \n",
    "sin_amb = data1[data1.rooms.isnull()]['description']"
   ]
  },
  {
   "cell_type": "code",
   "execution_count": 18,
   "metadata": {},
   "outputs": [],
   "source": [
    "# En el patron busco los que salen con ambientes y tambien dormitorios, en las description de las filas que rooms es nulo \n",
    "pat_amb1 = r'(?P<todo>(?P<numero>\\d{1,2})\\s?[Aa][Mm][Bb])'\n",
    "pat_amb2 = r'(?P<todo>(?P<numero>\\d{1,2})\\s?[Dd][Oo][Rr][Mm])'\n",
    "regex_amb = re.compile(pat_amb1)\n",
    "regex_amb2 = re.compile(pat_amb2)\n",
    "ambientes = sin_amb.apply(lambda x: regex_amb.search(str(x)))\n",
    "dormitorio = sin_amb.apply(lambda x: regex_amb2.search(str(x)))\n",
    "amb_dorm = (ambientes.notnull() & dormitorio.notnull())\n",
    "dorm = dormitorio.notnull() & ~amb_dorm"
   ]
  },
  {
   "cell_type": "code",
   "execution_count": 19,
   "metadata": {},
   "outputs": [],
   "source": [
    "# mediante iloc seleciono los ambientes y dormitorios que encontre se los completo a la columna ambientes. tengo cuidado de de que los que coincidan en tener match de ambientes y dormitorios pongo solo el match de ambientes \n",
    "data1.loc[ambientes[ambientes.notnull()].index,\"ambientes\"] = ambientes[ambientes.notnull()].apply(lambda x: x.group(\"numero\")).copy()\n",
    "data1.loc[dorm.index[dorm],\"ambientes\"] = dormitorio[dorm.index[dorm]].apply(lambda x: x.group(\"numero\")).copy()\n",
    "# data1.loc[ambientes[ambientes.notnull()].index,\"ambientes\"]\n",
    "# sin_amb.loc[ambientes.notnull()]"
   ]
  },
  {
   "cell_type": "code",
   "execution_count": 20,
   "metadata": {},
   "outputs": [],
   "source": [
    "#  me fijo si con otro patron puedo encontrar mas ambientes para rellenar con otro patron, encontre que puedo añadir 57 datos mas, ya que tengo que tener en cuenta que no esten en los otros dos patrones que busque antes\n",
    "patron_amb2 =  r'[Aa][Mm][Bb][Ii][Ee][Nn][Tt][Ee][sS]*\\s?[\\s:]?\\s?(?P<numero>\\d{1,2})'\n",
    "regex_amb1 = re.compile(patron_amb2)\n",
    "ambientes1 = sin_amb.apply(lambda x: regex_amb1.search(str(x)))\n",
    "amb1y2 = ambientes.notnull() & ambientes1.notnull()\n",
    "amb_dorm = ambientes1.notnull() & dormitorio.notnull()\n",
    "amb1_sim_amb= ambientes1.notnull() & ~amb1y2\n",
    "ambientes_otro_pat = amb1_sim_amb & amb_dorm\n",
    "data1.loc[ambientes_otro_pat.index[ambientes_otro_pat],\"ambientes\"] = ambientes1[ambientes_otro_pat].apply(lambda x: x.group(\"numero\")).copy()"
   ]
  },
  {
   "cell_type": "code",
   "execution_count": 21,
   "metadata": {},
   "outputs": [
    {
     "data": {
      "text/plain": [
       "(0.28314995093399103, 0.6090579112357697)"
      ]
     },
     "execution_count": 21,
     "metadata": {},
     "output_type": "execute_result"
    }
   ],
   "source": [
    "# con esto me fijo cual es el nuevo porcentaje de nulos que tengo y el que tenia. Bajo mas de un 30% los nulos \n",
    "data1.ambientes.isnull().sum() / data1.shape[0], data.ambientes.isnull().sum() / data.shape[0]"
   ]
  },
  {
   "cell_type": "markdown",
   "metadata": {},
   "source": [
    "# pileta "
   ]
  },
  {
   "cell_type": "code",
   "execution_count": 22,
   "metadata": {},
   "outputs": [
    {
     "data": {
      "text/plain": [
       "0                                                       None\n",
       "1                                                       None\n",
       "2                                                       None\n",
       "3                                                       None\n",
       "4                                                       None\n",
       "                                 ...                        \n",
       "121215    <re.Match object; span=(287, 293), match='pileta'>\n",
       "121216    <re.Match object; span=(883, 889), match='pileta'>\n",
       "121217                                                  None\n",
       "121218                                                  None\n",
       "121219                                                  None\n",
       "Name: description, Length: 115151, dtype: object"
      ]
     },
     "execution_count": 22,
     "metadata": {},
     "output_type": "execute_result"
    }
   ],
   "source": [
    "#Hago un regex para saber si tiene pileta  \n",
    "pat_pile = r'(?P<pileta>([Pp]ileta)|([Pp]iscina)s?)'\n",
    "regex_pile = re.compile(pat_pile)\n",
    "pileta1= data1.description.apply(lambda x: regex_pile.search(str(x)))\n",
    "pileta1"
   ]
  },
  {
   "cell_type": "code",
   "execution_count": 23,
   "metadata": {},
   "outputs": [
    {
     "name": "stderr",
     "output_type": "stream",
     "text": [
      "C:\\ProgramData\\Anaconda3\\envs\\dhdsblend\\lib\\site-packages\\pandas\\core\\indexing.py:845: SettingWithCopyWarning: \n",
      "A value is trying to be set on a copy of a slice from a DataFrame.\n",
      "Try using .loc[row_indexer,col_indexer] = value instead\n",
      "\n",
      "See the caveats in the documentation: https://pandas.pydata.org/pandas-docs/stable/user_guide/indexing.html#returning-a-view-versus-a-copy\n",
      "  self.obj[key] = _infer_fill_value(value)\n"
     ]
    },
    {
     "data": {
      "text/plain": [
       "0         0.0\n",
       "1         0.0\n",
       "2         0.0\n",
       "3         0.0\n",
       "4         0.0\n",
       "         ... \n",
       "121215    1.0\n",
       "121216    1.0\n",
       "121217    0.0\n",
       "121218    0.0\n",
       "121219    0.0\n",
       "Name: pileta, Length: 115151, dtype: float64"
      ]
     },
     "execution_count": 23,
     "metadata": {},
     "output_type": "execute_result"
    }
   ],
   "source": [
    "# creo la columna pileta, asignandole 1 si tiene y 0 sino tiene \n",
    "data1.loc[pileta1.notnull(),'pileta'] = 1\n",
    "data1.loc[pileta1.isnull(),'pileta'] = 0\n",
    "data1.pileta"
   ]
  },
  {
   "cell_type": "code",
   "execution_count": 24,
   "metadata": {},
   "outputs": [
    {
     "data": {
      "text/html": [
       "<div>\n",
       "<style scoped>\n",
       "    .dataframe tbody tr th:only-of-type {\n",
       "        vertical-align: middle;\n",
       "    }\n",
       "\n",
       "    .dataframe tbody tr th {\n",
       "        vertical-align: top;\n",
       "    }\n",
       "\n",
       "    .dataframe thead th {\n",
       "        text-align: right;\n",
       "    }\n",
       "</style>\n",
       "<table border=\"1\" class=\"dataframe\">\n",
       "  <thead>\n",
       "    <tr style=\"text-align: right;\">\n",
       "      <th></th>\n",
       "      <th>Unnamed: 0</th>\n",
       "      <th>operation</th>\n",
       "      <th>property_type</th>\n",
       "      <th>place_name</th>\n",
       "      <th>place_with_parent_names</th>\n",
       "      <th>country_name</th>\n",
       "      <th>state_name</th>\n",
       "      <th>geonames_id</th>\n",
       "      <th>lat-lon</th>\n",
       "      <th>lat</th>\n",
       "      <th>lon</th>\n",
       "      <th>price</th>\n",
       "      <th>currency</th>\n",
       "      <th>price_aprox_local_currency</th>\n",
       "      <th>price_aprox_usd</th>\n",
       "      <th>surface_total_in_m2</th>\n",
       "      <th>surface_covered_in_m2</th>\n",
       "      <th>price_usd_per_m2</th>\n",
       "      <th>price_per_m2</th>\n",
       "      <th>floor</th>\n",
       "      <th>rooms</th>\n",
       "      <th>expenses</th>\n",
       "      <th>properati_url</th>\n",
       "      <th>description</th>\n",
       "      <th>title</th>\n",
       "      <th>image_thumbnail</th>\n",
       "      <th>price_dolar</th>\n",
       "      <th>ambientes</th>\n",
       "      <th>price_m2_dolar</th>\n",
       "      <th>pileta</th>\n",
       "    </tr>\n",
       "  </thead>\n",
       "  <tbody>\n",
       "    <tr>\n",
       "      <th>10664</th>\n",
       "      <td>10664</td>\n",
       "      <td>sell</td>\n",
       "      <td>apartment</td>\n",
       "      <td>Villa Carlos Paz</td>\n",
       "      <td>|Argentina|Córdoba|Villa Carlos Paz|</td>\n",
       "      <td>Argentina</td>\n",
       "      <td>Córdoba</td>\n",
       "      <td>3832791.0</td>\n",
       "      <td>-31.4207828,-64.4992141</td>\n",
       "      <td>-31.420783</td>\n",
       "      <td>-64.499214</td>\n",
       "      <td>2350000.0</td>\n",
       "      <td>ARS</td>\n",
       "      <td>2325485.81</td>\n",
       "      <td>131796.64</td>\n",
       "      <td>NaN</td>\n",
       "      <td>NaN</td>\n",
       "      <td>NaN</td>\n",
       "      <td>NaN</td>\n",
       "      <td>NaN</td>\n",
       "      <td>NaN</td>\n",
       "      <td>NaN</td>\n",
       "      <td>http://www.properati.com.ar/168nc_venta_departamento_villa-carlos-paz_balcon_piscina_quincho_garage_aire-acondicionado_tallarico-prop</td>\n",
       "      <td>NaN</td>\n",
       "      <td>HERMOSO DEPARTAMENTO CON PISCINA Y COCHERA</td>\n",
       "      <td>https://thumbs4.properati.com/6/JiAoy6zsKPeBobswP_iNIel8FQg=/trim/198x0/smart/filters:strip_icc()/tallarico.com.ar/photos/0048-14581583_1801604653396132_6593153683997444430_n%20(1).jpg</td>\n",
       "      <td>131796.64</td>\n",
       "      <td>NaN</td>\n",
       "      <td>NaN</td>\n",
       "      <td>0.0</td>\n",
       "    </tr>\n",
       "    <tr>\n",
       "      <th>96691</th>\n",
       "      <td>96691</td>\n",
       "      <td>sell</td>\n",
       "      <td>apartment</td>\n",
       "      <td>San Fernando</td>\n",
       "      <td>|Argentina|Bs.As. G.B.A. Zona Norte|San Fernando|</td>\n",
       "      <td>Argentina</td>\n",
       "      <td>Bs.As. G.B.A. Zona Norte</td>\n",
       "      <td>3429088.0</td>\n",
       "      <td>NaN</td>\n",
       "      <td>NaN</td>\n",
       "      <td>NaN</td>\n",
       "      <td>98000.0</td>\n",
       "      <td>USD</td>\n",
       "      <td>1729161.00</td>\n",
       "      <td>98000.00</td>\n",
       "      <td>NaN</td>\n",
       "      <td>55.0</td>\n",
       "      <td>NaN</td>\n",
       "      <td>1781.818182</td>\n",
       "      <td>NaN</td>\n",
       "      <td>NaN</td>\n",
       "      <td>NaN</td>\n",
       "      <td>http://www.properati.com.ar/1bj1r_venta_departamento_san-fernando_dl-delcastilloprop</td>\n",
       "      <td>NaN</td>\n",
       "      <td>Departamento - San Fernando</td>\n",
       "      <td>https://thumbs4.properati.com/1/FZZcNCsb4-ucU2tHZzcGnz9cAXc=/trim/198x0/smart/filters:strip_icc()/tbcn.s3-accelerate.amazonaws.com/pictures/97167690691021099014876125662787939056761097664237264318413016129438379680395.jpg</td>\n",
       "      <td>98000.00</td>\n",
       "      <td>NaN</td>\n",
       "      <td>NaN</td>\n",
       "      <td>0.0</td>\n",
       "    </tr>\n",
       "  </tbody>\n",
       "</table>\n",
       "</div>"
      ],
      "text/plain": [
       "       Unnamed: 0 operation property_type        place_name  \\\n",
       "10664       10664      sell     apartment  Villa Carlos Paz   \n",
       "96691       96691      sell     apartment      San Fernando   \n",
       "\n",
       "                                 place_with_parent_names country_name  \\\n",
       "10664               |Argentina|Córdoba|Villa Carlos Paz|    Argentina   \n",
       "96691  |Argentina|Bs.As. G.B.A. Zona Norte|San Fernando|    Argentina   \n",
       "\n",
       "                     state_name  geonames_id                  lat-lon  \\\n",
       "10664                   Córdoba    3832791.0  -31.4207828,-64.4992141   \n",
       "96691  Bs.As. G.B.A. Zona Norte    3429088.0                      NaN   \n",
       "\n",
       "             lat        lon      price currency  price_aprox_local_currency  \\\n",
       "10664 -31.420783 -64.499214  2350000.0      ARS                  2325485.81   \n",
       "96691        NaN        NaN    98000.0      USD                  1729161.00   \n",
       "\n",
       "       price_aprox_usd  surface_total_in_m2  surface_covered_in_m2  \\\n",
       "10664        131796.64                  NaN                    NaN   \n",
       "96691         98000.00                  NaN                   55.0   \n",
       "\n",
       "       price_usd_per_m2  price_per_m2  floor  rooms  expenses  \\\n",
       "10664               NaN           NaN    NaN    NaN       NaN   \n",
       "96691               NaN   1781.818182    NaN    NaN       NaN   \n",
       "\n",
       "                                                                                                                               properati_url  \\\n",
       "10664  http://www.properati.com.ar/168nc_venta_departamento_villa-carlos-paz_balcon_piscina_quincho_garage_aire-acondicionado_tallarico-prop   \n",
       "96691                                                   http://www.properati.com.ar/1bj1r_venta_departamento_san-fernando_dl-delcastilloprop   \n",
       "\n",
       "      description                                        title  \\\n",
       "10664         NaN  HERMOSO DEPARTAMENTO CON PISCINA Y COCHERA    \n",
       "96691         NaN                  Departamento - San Fernando   \n",
       "\n",
       "                                                                                                                                                                                                                     image_thumbnail  \\\n",
       "10664                                       https://thumbs4.properati.com/6/JiAoy6zsKPeBobswP_iNIel8FQg=/trim/198x0/smart/filters:strip_icc()/tallarico.com.ar/photos/0048-14581583_1801604653396132_6593153683997444430_n%20(1).jpg   \n",
       "96691  https://thumbs4.properati.com/1/FZZcNCsb4-ucU2tHZzcGnz9cAXc=/trim/198x0/smart/filters:strip_icc()/tbcn.s3-accelerate.amazonaws.com/pictures/97167690691021099014876125662787939056761097664237264318413016129438379680395.jpg   \n",
       "\n",
       "       price_dolar ambientes  price_m2_dolar  pileta  \n",
       "10664    131796.64       NaN             NaN     0.0  \n",
       "96691     98000.00       NaN             NaN     0.0  "
      ]
     },
     "execution_count": 24,
     "metadata": {},
     "output_type": "execute_result"
    }
   ],
   "source": [
    "# ver esas 2 filas que no tienen descripcion \n",
    "data1[data1.description.isnull()]"
   ]
  },
  {
   "cell_type": "code",
   "execution_count": 25,
   "metadata": {},
   "outputs": [
    {
     "data": {
      "text/plain": [
       "(Unnamed: 0                    0.000000\n",
       " operation                     0.000000\n",
       " property_type                 0.000000\n",
       " place_name                    0.000190\n",
       " place_with_parent_names       0.000000\n",
       " country_name                  0.000000\n",
       " state_name                    0.000000\n",
       " geonames_id                   0.154405\n",
       " lat-lon                       0.425260\n",
       " lat                           0.425260\n",
       " lon                           0.425260\n",
       " price                         0.168372\n",
       " currency                      0.168380\n",
       " price_aprox_local_currency    0.168372\n",
       " price_aprox_usd               0.168372\n",
       " surface_total_in_m2           0.324435\n",
       " surface_covered_in_m2         0.164222\n",
       " price_usd_per_m2              0.433947\n",
       " price_per_m2                  0.276869\n",
       " floor                         0.934837\n",
       " rooms                         0.609058\n",
       " expenses                      0.882346\n",
       " properati_url                 0.000000\n",
       " description                   0.000016\n",
       " title                         0.000000\n",
       " image_thumbnail               0.025672\n",
       " price_dolar                   0.168372\n",
       " ambientes                     0.609058\n",
       " price_m2_dolar                0.433947\n",
       " dtype: float64,\n",
       " Unnamed: 0                    0.000000\n",
       " operation                     0.000000\n",
       " property_type                 0.000000\n",
       " place_name                    0.000200\n",
       " place_with_parent_names       0.000000\n",
       " country_name                  0.000000\n",
       " state_name                    0.000000\n",
       " geonames_id                   0.156343\n",
       " lat-lon                       0.414638\n",
       " lat                           0.414638\n",
       " lon                           0.414638\n",
       " price                         0.149968\n",
       " currency                      0.149977\n",
       " price_aprox_local_currency    0.149968\n",
       " price_aprox_usd               0.149968\n",
       " surface_total_in_m2           0.331243\n",
       " surface_covered_in_m2         0.162326\n",
       " price_usd_per_m2              0.424078\n",
       " price_per_m2                  0.261465\n",
       " floor                         0.935198\n",
       " rooms                         0.602791\n",
       " expenses                      0.878542\n",
       " properati_url                 0.000000\n",
       " description                   0.000017\n",
       " title                         0.000000\n",
       " image_thumbnail               0.022353\n",
       " price_dolar                   0.131749\n",
       " ambientes                     0.283150\n",
       " price_m2_dolar                0.424078\n",
       " pileta                        0.000000\n",
       " dtype: float64)"
      ]
     },
     "execution_count": 25,
     "metadata": {},
     "output_type": "execute_result"
    }
   ],
   "source": [
    "pct_nulos1 = data1.isnull().sum() / data1.shape[0]\n",
    "pct_nulos,pct_nulos1 "
   ]
  },
  {
   "cell_type": "code",
   "execution_count": 26,
   "metadata": {},
   "outputs": [
    {
     "data": {
      "text/plain": [
       "11414"
      ]
     },
     "execution_count": 26,
     "metadata": {},
     "output_type": "execute_result"
    }
   ],
   "source": [
    "((data.price_dolar.isnull()) & (data1.surface_covered_in_m2.notnull())).sum()"
   ]
  },
  {
   "cell_type": "code",
   "execution_count": 27,
   "metadata": {},
   "outputs": [
    {
     "name": "stderr",
     "output_type": "stream",
     "text": [
      "C:\\ProgramData\\Anaconda3\\envs\\dhdsblend\\lib\\site-packages\\ipykernel_launcher.py:1: UserWarning: Boolean Series key will be reindexed to match DataFrame index.\n",
      "  \"\"\"Entry point for launching an IPython kernel.\n"
     ]
    },
    {
     "data": {
      "text/html": [
       "<div>\n",
       "<style scoped>\n",
       "    .dataframe tbody tr th:only-of-type {\n",
       "        vertical-align: middle;\n",
       "    }\n",
       "\n",
       "    .dataframe tbody tr th {\n",
       "        vertical-align: top;\n",
       "    }\n",
       "\n",
       "    .dataframe thead th {\n",
       "        text-align: right;\n",
       "    }\n",
       "</style>\n",
       "<table border=\"1\" class=\"dataframe\">\n",
       "  <thead>\n",
       "    <tr style=\"text-align: right;\">\n",
       "      <th></th>\n",
       "      <th>surface_total_in_m2</th>\n",
       "      <th>surface_covered_in_m2</th>\n",
       "      <th>price_usd_per_m2</th>\n",
       "      <th>price_per_m2</th>\n",
       "    </tr>\n",
       "  </thead>\n",
       "  <tbody>\n",
       "    <tr>\n",
       "      <th>5</th>\n",
       "      <td>53.0</td>\n",
       "      <td>NaN</td>\n",
       "      <td>NaN</td>\n",
       "      <td>NaN</td>\n",
       "    </tr>\n",
       "    <tr>\n",
       "      <th>20</th>\n",
       "      <td>148.0</td>\n",
       "      <td>148.0</td>\n",
       "      <td>NaN</td>\n",
       "      <td>NaN</td>\n",
       "    </tr>\n",
       "    <tr>\n",
       "      <th>41</th>\n",
       "      <td>115.0</td>\n",
       "      <td>115.0</td>\n",
       "      <td>NaN</td>\n",
       "      <td>NaN</td>\n",
       "    </tr>\n",
       "    <tr>\n",
       "      <th>62</th>\n",
       "      <td>156.0</td>\n",
       "      <td>156.0</td>\n",
       "      <td>NaN</td>\n",
       "      <td>NaN</td>\n",
       "    </tr>\n",
       "    <tr>\n",
       "      <th>67</th>\n",
       "      <td>220.0</td>\n",
       "      <td>NaN</td>\n",
       "      <td>NaN</td>\n",
       "      <td>NaN</td>\n",
       "    </tr>\n",
       "    <tr>\n",
       "      <th>...</th>\n",
       "      <td>...</td>\n",
       "      <td>...</td>\n",
       "      <td>...</td>\n",
       "      <td>...</td>\n",
       "    </tr>\n",
       "    <tr>\n",
       "      <th>121210</th>\n",
       "      <td>NaN</td>\n",
       "      <td>120.0</td>\n",
       "      <td>NaN</td>\n",
       "      <td>NaN</td>\n",
       "    </tr>\n",
       "    <tr>\n",
       "      <th>121211</th>\n",
       "      <td>205.0</td>\n",
       "      <td>205.0</td>\n",
       "      <td>NaN</td>\n",
       "      <td>NaN</td>\n",
       "    </tr>\n",
       "    <tr>\n",
       "      <th>121212</th>\n",
       "      <td>420.0</td>\n",
       "      <td>420.0</td>\n",
       "      <td>NaN</td>\n",
       "      <td>NaN</td>\n",
       "    </tr>\n",
       "    <tr>\n",
       "      <th>121213</th>\n",
       "      <td>600.0</td>\n",
       "      <td>600.0</td>\n",
       "      <td>NaN</td>\n",
       "      <td>NaN</td>\n",
       "    </tr>\n",
       "    <tr>\n",
       "      <th>121214</th>\n",
       "      <td>123.0</td>\n",
       "      <td>123.0</td>\n",
       "      <td>NaN</td>\n",
       "      <td>NaN</td>\n",
       "    </tr>\n",
       "  </tbody>\n",
       "</table>\n",
       "<p>17269 rows × 4 columns</p>\n",
       "</div>"
      ],
      "text/plain": [
       "        surface_total_in_m2  surface_covered_in_m2  price_usd_per_m2  \\\n",
       "5                      53.0                    NaN               NaN   \n",
       "20                    148.0                  148.0               NaN   \n",
       "41                    115.0                  115.0               NaN   \n",
       "62                    156.0                  156.0               NaN   \n",
       "67                    220.0                    NaN               NaN   \n",
       "...                     ...                    ...               ...   \n",
       "121210                  NaN                  120.0               NaN   \n",
       "121211                205.0                  205.0               NaN   \n",
       "121212                420.0                  420.0               NaN   \n",
       "121213                600.0                  600.0               NaN   \n",
       "121214                123.0                  123.0               NaN   \n",
       "\n",
       "        price_per_m2  \n",
       "5                NaN  \n",
       "20               NaN  \n",
       "41               NaN  \n",
       "62               NaN  \n",
       "67               NaN  \n",
       "...              ...  \n",
       "121210           NaN  \n",
       "121211           NaN  \n",
       "121212           NaN  \n",
       "121213           NaN  \n",
       "121214           NaN  \n",
       "\n",
       "[17269 rows x 4 columns]"
      ]
     },
     "execution_count": 27,
     "metadata": {},
     "output_type": "execute_result"
    }
   ],
   "source": [
    "data1[data.price_dolar.isnull()][[\"surface_total_in_m2\",\"surface_covered_in_m2\",\"price_usd_per_m2\",\"price_per_m2\"]]"
   ]
  },
  {
   "cell_type": "code",
   "execution_count": 28,
   "metadata": {},
   "outputs": [
    {
     "data": {
      "text/html": [
       "<div>\n",
       "<style scoped>\n",
       "    .dataframe tbody tr th:only-of-type {\n",
       "        vertical-align: middle;\n",
       "    }\n",
       "\n",
       "    .dataframe tbody tr th {\n",
       "        vertical-align: top;\n",
       "    }\n",
       "\n",
       "    .dataframe thead th {\n",
       "        text-align: right;\n",
       "    }\n",
       "</style>\n",
       "<table border=\"1\" class=\"dataframe\">\n",
       "  <thead>\n",
       "    <tr style=\"text-align: right;\">\n",
       "      <th></th>\n",
       "      <th>surface_total_in_m2</th>\n",
       "      <th>surface_covered_in_m2</th>\n",
       "    </tr>\n",
       "  </thead>\n",
       "  <tbody>\n",
       "    <tr>\n",
       "      <th>1</th>\n",
       "      <td>NaN</td>\n",
       "      <td>NaN</td>\n",
       "    </tr>\n",
       "    <tr>\n",
       "      <th>2</th>\n",
       "      <td>55.0</td>\n",
       "      <td>55.0</td>\n",
       "    </tr>\n",
       "    <tr>\n",
       "      <th>4</th>\n",
       "      <td>35.0</td>\n",
       "      <td>35.0</td>\n",
       "    </tr>\n",
       "    <tr>\n",
       "      <th>7</th>\n",
       "      <td>45.0</td>\n",
       "      <td>40.0</td>\n",
       "    </tr>\n",
       "    <tr>\n",
       "      <th>8</th>\n",
       "      <td>65.0</td>\n",
       "      <td>60.0</td>\n",
       "    </tr>\n",
       "    <tr>\n",
       "      <th>12</th>\n",
       "      <td>39.0</td>\n",
       "      <td>36.0</td>\n",
       "    </tr>\n",
       "    <tr>\n",
       "      <th>13</th>\n",
       "      <td>50.0</td>\n",
       "      <td>30.0</td>\n",
       "    </tr>\n",
       "    <tr>\n",
       "      <th>14</th>\n",
       "      <td>42.0</td>\n",
       "      <td>31.0</td>\n",
       "    </tr>\n",
       "    <tr>\n",
       "      <th>17</th>\n",
       "      <td>176.0</td>\n",
       "      <td>78.0</td>\n",
       "    </tr>\n",
       "    <tr>\n",
       "      <th>19</th>\n",
       "      <td>104.0</td>\n",
       "      <td>96.0</td>\n",
       "    </tr>\n",
       "    <tr>\n",
       "      <th>21</th>\n",
       "      <td>118.0</td>\n",
       "      <td>73.0</td>\n",
       "    </tr>\n",
       "    <tr>\n",
       "      <th>23</th>\n",
       "      <td>48.0</td>\n",
       "      <td>42.0</td>\n",
       "    </tr>\n",
       "    <tr>\n",
       "      <th>24</th>\n",
       "      <td>160.0</td>\n",
       "      <td>160.0</td>\n",
       "    </tr>\n",
       "    <tr>\n",
       "      <th>25</th>\n",
       "      <td>160.0</td>\n",
       "      <td>160.0</td>\n",
       "    </tr>\n",
       "    <tr>\n",
       "      <th>28</th>\n",
       "      <td>160.0</td>\n",
       "      <td>160.0</td>\n",
       "    </tr>\n",
       "    <tr>\n",
       "      <th>29</th>\n",
       "      <td>43.0</td>\n",
       "      <td>43.0</td>\n",
       "    </tr>\n",
       "    <tr>\n",
       "      <th>32</th>\n",
       "      <td>50.0</td>\n",
       "      <td>50.0</td>\n",
       "    </tr>\n",
       "    <tr>\n",
       "      <th>33</th>\n",
       "      <td>186.0</td>\n",
       "      <td>83.0</td>\n",
       "    </tr>\n",
       "    <tr>\n",
       "      <th>35</th>\n",
       "      <td>80.0</td>\n",
       "      <td>77.0</td>\n",
       "    </tr>\n",
       "    <tr>\n",
       "      <th>38</th>\n",
       "      <td>220.0</td>\n",
       "      <td>130.0</td>\n",
       "    </tr>\n",
       "    <tr>\n",
       "      <th>40</th>\n",
       "      <td>138.0</td>\n",
       "      <td>74.0</td>\n",
       "    </tr>\n",
       "    <tr>\n",
       "      <th>41</th>\n",
       "      <td>115.0</td>\n",
       "      <td>115.0</td>\n",
       "    </tr>\n",
       "    <tr>\n",
       "      <th>43</th>\n",
       "      <td>32.0</td>\n",
       "      <td>32.0</td>\n",
       "    </tr>\n",
       "    <tr>\n",
       "      <th>45</th>\n",
       "      <td>30.0</td>\n",
       "      <td>30.0</td>\n",
       "    </tr>\n",
       "    <tr>\n",
       "      <th>48</th>\n",
       "      <td>141.0</td>\n",
       "      <td>124.0</td>\n",
       "    </tr>\n",
       "    <tr>\n",
       "      <th>50</th>\n",
       "      <td>142.0</td>\n",
       "      <td>122.0</td>\n",
       "    </tr>\n",
       "    <tr>\n",
       "      <th>52</th>\n",
       "      <td>50.0</td>\n",
       "      <td>50.0</td>\n",
       "    </tr>\n",
       "    <tr>\n",
       "      <th>53</th>\n",
       "      <td>100.0</td>\n",
       "      <td>46.0</td>\n",
       "    </tr>\n",
       "    <tr>\n",
       "      <th>54</th>\n",
       "      <td>81.0</td>\n",
       "      <td>75.0</td>\n",
       "    </tr>\n",
       "    <tr>\n",
       "      <th>55</th>\n",
       "      <td>81.0</td>\n",
       "      <td>75.0</td>\n",
       "    </tr>\n",
       "    <tr>\n",
       "      <th>59</th>\n",
       "      <td>70.0</td>\n",
       "      <td>67.0</td>\n",
       "    </tr>\n",
       "    <tr>\n",
       "      <th>60</th>\n",
       "      <td>50.0</td>\n",
       "      <td>50.0</td>\n",
       "    </tr>\n",
       "    <tr>\n",
       "      <th>66</th>\n",
       "      <td>38.0</td>\n",
       "      <td>NaN</td>\n",
       "    </tr>\n",
       "    <tr>\n",
       "      <th>68</th>\n",
       "      <td>NaN</td>\n",
       "      <td>72.0</td>\n",
       "    </tr>\n",
       "    <tr>\n",
       "      <th>74</th>\n",
       "      <td>29.0</td>\n",
       "      <td>29.0</td>\n",
       "    </tr>\n",
       "    <tr>\n",
       "      <th>75</th>\n",
       "      <td>90.0</td>\n",
       "      <td>90.0</td>\n",
       "    </tr>\n",
       "    <tr>\n",
       "      <th>77</th>\n",
       "      <td>NaN</td>\n",
       "      <td>85.0</td>\n",
       "    </tr>\n",
       "    <tr>\n",
       "      <th>79</th>\n",
       "      <td>NaN</td>\n",
       "      <td>42.0</td>\n",
       "    </tr>\n",
       "    <tr>\n",
       "      <th>81</th>\n",
       "      <td>42.0</td>\n",
       "      <td>40.0</td>\n",
       "    </tr>\n",
       "    <tr>\n",
       "      <th>82</th>\n",
       "      <td>28.0</td>\n",
       "      <td>28.0</td>\n",
       "    </tr>\n",
       "    <tr>\n",
       "      <th>83</th>\n",
       "      <td>55.0</td>\n",
       "      <td>55.0</td>\n",
       "    </tr>\n",
       "    <tr>\n",
       "      <th>84</th>\n",
       "      <td>55.0</td>\n",
       "      <td>55.0</td>\n",
       "    </tr>\n",
       "    <tr>\n",
       "      <th>85</th>\n",
       "      <td>63.0</td>\n",
       "      <td>63.0</td>\n",
       "    </tr>\n",
       "    <tr>\n",
       "      <th>88</th>\n",
       "      <td>NaN</td>\n",
       "      <td>NaN</td>\n",
       "    </tr>\n",
       "    <tr>\n",
       "      <th>89</th>\n",
       "      <td>NaN</td>\n",
       "      <td>53.0</td>\n",
       "    </tr>\n",
       "    <tr>\n",
       "      <th>90</th>\n",
       "      <td>NaN</td>\n",
       "      <td>NaN</td>\n",
       "    </tr>\n",
       "    <tr>\n",
       "      <th>92</th>\n",
       "      <td>NaN</td>\n",
       "      <td>73.0</td>\n",
       "    </tr>\n",
       "    <tr>\n",
       "      <th>96</th>\n",
       "      <td>75.0</td>\n",
       "      <td>30.0</td>\n",
       "    </tr>\n",
       "    <tr>\n",
       "      <th>97</th>\n",
       "      <td>NaN</td>\n",
       "      <td>NaN</td>\n",
       "    </tr>\n",
       "    <tr>\n",
       "      <th>98</th>\n",
       "      <td>50.0</td>\n",
       "      <td>40.0</td>\n",
       "    </tr>\n",
       "  </tbody>\n",
       "</table>\n",
       "</div>"
      ],
      "text/plain": [
       "    surface_total_in_m2  surface_covered_in_m2\n",
       "1                   NaN                    NaN\n",
       "2                  55.0                   55.0\n",
       "4                  35.0                   35.0\n",
       "7                  45.0                   40.0\n",
       "8                  65.0                   60.0\n",
       "12                 39.0                   36.0\n",
       "13                 50.0                   30.0\n",
       "14                 42.0                   31.0\n",
       "17                176.0                   78.0\n",
       "19                104.0                   96.0\n",
       "21                118.0                   73.0\n",
       "23                 48.0                   42.0\n",
       "24                160.0                  160.0\n",
       "25                160.0                  160.0\n",
       "28                160.0                  160.0\n",
       "29                 43.0                   43.0\n",
       "32                 50.0                   50.0\n",
       "33                186.0                   83.0\n",
       "35                 80.0                   77.0\n",
       "38                220.0                  130.0\n",
       "40                138.0                   74.0\n",
       "41                115.0                  115.0\n",
       "43                 32.0                   32.0\n",
       "45                 30.0                   30.0\n",
       "48                141.0                  124.0\n",
       "50                142.0                  122.0\n",
       "52                 50.0                   50.0\n",
       "53                100.0                   46.0\n",
       "54                 81.0                   75.0\n",
       "55                 81.0                   75.0\n",
       "59                 70.0                   67.0\n",
       "60                 50.0                   50.0\n",
       "66                 38.0                    NaN\n",
       "68                  NaN                   72.0\n",
       "74                 29.0                   29.0\n",
       "75                 90.0                   90.0\n",
       "77                  NaN                   85.0\n",
       "79                  NaN                   42.0\n",
       "81                 42.0                   40.0\n",
       "82                 28.0                   28.0\n",
       "83                 55.0                   55.0\n",
       "84                 55.0                   55.0\n",
       "85                 63.0                   63.0\n",
       "88                  NaN                    NaN\n",
       "89                  NaN                   53.0\n",
       "90                  NaN                    NaN\n",
       "92                  NaN                   73.0\n",
       "96                 75.0                   30.0\n",
       "97                  NaN                    NaN\n",
       "98                 50.0                   40.0"
      ]
     },
     "execution_count": 28,
     "metadata": {},
     "output_type": "execute_result"
    }
   ],
   "source": [
    "data1[data1.property_type == \"apartment\"][[\"surface_total_in_m2\",\"surface_covered_in_m2\"]][:50]"
   ]
  },
  {
   "cell_type": "markdown",
   "metadata": {},
   "source": [
    "## Empiezo con los ambientes, trato de completarlos"
   ]
  },
  {
   "cell_type": "code",
   "execution_count": 80,
   "metadata": {},
   "outputs": [
    {
     "data": {
      "text/plain": [
       "37436     Corredor Responsable: Real Estate New Generation S.A. - C.C.P.I.M 0001- S.A.- 2011Contacto: Lucia Chalier - MLS ID # 420131006-350Ubicada en la calle Alberti de Godoy Cruz, de 16 años de antiguedad, sobre un terreno de 202 m2 y 184 m2 cubiertos, esta hermosa casa de categoría cuenta con enrejado y chapa ciega al frente, cochera cubierta doble en paralelo, ingreso al amplio living comedor en desnivel y con ventana bowindow. Cocina comedor con salida al patio, pasillo de distribución con placard, habitación en planta baja con amplio placard, baño completo con mampara, escalera de acceso a planta alta, lavandería y salida al jardín. En planta alta, dos amplias habitaciones con placares, baño con antebaño y pequeño escritorio. Patio jardín con churrasquera y placard de guardado, mesada con bajo mesada, bacha, puerta metálica. Detalles: Escalera con diseño en hierro macizo y escalones de roble macizo lustrado. estar que distribuye a los dormitorios, antebaño con mueble bajo mesada de roble macizo, todos los placares y aberturas son enchapados en roble. Balcón al jardín con puerta y reja que recorre todo el perímetro trasero, carpintería externa con chapa 18 reforzada y con marco cajón. Puerta de ingreso principal de roble macizo, rejas artísticas con chapa ciega al frente, muebles de cocina en roble macizo laqueado de alacena y bajo mesada en L, mesada de granito. Pisos cerámicos, todos los servicios. Tiene siete techos encontrados de madera lustrada y tejas francesas rojas, lo que le da un diseño único. Distintos circuitos eléctricos para alimentar los aires acondicionados, instalaciones de luz sectorizados. Lámparas de bronce colgantes, alarma y cerco eléctrico en toda la casa y su perímetro. Posibilidad de comprar amoblada, valores a convenir.\n",
       "15131                                                                                                                                                                                                                                                                                                                                                                                                                                                                                                                                                                                                                                                                                                                                                                                                                                                                                                                                                                                                                                                                                                                                                                                                                                        Corredor Responsable: Mauro Perri - CDCPDJLP 7190Contacto: Federico Sessa - MLS ID # 420551017-11Excelente Casa, restaurada completamente a nuevo, amplios e iluminados ambientes. Ideal ubicacion frente a una de las plazas mas lindas de la cuidad.  En planta baja cuenta con living, comedor, cocina completa incorporada, 2 dormitorios con piso de madera y placard, baño completo, patio descubierto y cochera. En planta alta posee un lavadero cubierto, escritorio o quincho y terraza.  Sobre un lote propio de 10 x 10, 105 m2 cubiertos. Se acepta financiacion o permuta por menor valor.\n",
       "49003                                                                                                                                                                                                                                                                                                                                                                                                                                                                                                                                                                                                                                                                                                                                                                                                                                                                                                                                                                                                                                                                                                                                     Corredor Responsable: Sebastian Pellegrini - CI Mat N° 571Contacto: Sebastián Caranta - MLS ID # 420031091-89VENTA -  Casa  en Barrio \" El Troncal \", la misma cuenta con un dormitorio, living comedor con cocina semi-integrada y baño competo.  Cochera con salida al patio, espacio de lavadero, patio parquizado con pileta de 6,50 x 3 metros, parrillero , cuarto de guardado.  Galería cubierta. Portón eléctrico. APTA CREDITO.    La propiedad cuenta con los planos aprobados para realizar  dormitorio y baño en planta alta.   Zona NO inundable. Lineas de colectivo a 100 metros por Ruta 9.  Fácil acceso a autopista Rosario- Córdoba.    Terreno 400 m2 Cubiertos 85 m2 Galeria 30 m2    \n",
       "114607                                                                                                                                                                                                                                                                                                                                                                                                                                                                                                                                                                                                                                                                                                                                                                                                                                                                                                                                                                                                                                                                                                                                                                           La propiedad se encuentra ubicada en el Barrio Bialet Masse de la ciudad de Cordoba a una cuadra del Carrefour de Av. O´Higgins y del Easy.  El terreno total es de 10 metros de frente por 28 metros de fondo. Tiene agua y gas natural.La casa de atrás es a terminar, tiene 101 m2 cubiertos. De dos plantas; arriba: dos dormitorios y espacio para hacer un baño. Abajo: cocina-comedor, baño y antebaño.En el medio nos encontramos con un departamento de un dormitorio, cocina y baño con 36 m2 cub.; a terminar.La casa de adelante tiene 48 m2 con dos dormitorios, cocina, comedor, baño y espacio para dos cocheras.Se recibe auto. Se escuchan ofertas.\n",
       "110789                                                                                                                                                                                                                                                                                                                                                                                                                                                                                                                                                                                                                                                                                                                                                                                                                                                                                                                                                                                                                       CODIGO:  ubicado en: SCHIERONI AL 1900 -  Publicado por: AGUSTIN KREIBER SERVICIOS INMOBILIARIOS. El precio es de ARS 1300000 null. Se Vende Casa de aprox. 100m2 cubiertos, lote de 10 mts de frente x 25 de fondo, (sup 250m2), ubicada sobre calle Schieroni, la misma está compuesta por dos habitaciones, living comedor, cocina amplia, baño completo, jardín al frente, amplio garage cubierto, y patio en contra-frente.  La casa es muy cómoda y segura, cuenta con rejas al frente y contra-frente, con todos los servicios, títulos perfectos, lista para transferir  Para más información consultar por privado o al 60/ 4-54718 (fijo) o personalmente en Bv. Ayacucho 913 esq. Pueyrredón - Viedma -  de lunes a viernes en horario de comercio. Saludos cordiales AK.-   . Publicado a través de Mapaprop\n",
       "Name: description, dtype: object"
      ]
     },
     "execution_count": 80,
     "metadata": {},
     "output_type": "execute_result"
    }
   ],
   "source": [
    "# patron_m2 =  r'(\\d{1,3}[\\.,]?\\d{0,3})\\s?(([Mm]2)|([Mm][Tt][Ss]2?))\\s?([Dd][Ee])?[Tt][Ee][Rr][Rr][Ee]'\n",
    "# patron_m2 =  r'[Tt][Ee][Rr][Rr][Ee][Nn][Oo]([Dd][Ee])?(\\d{1,3}[\\.,]?\\d{0,3})\\s?(([Mm]2)|([Mm][Tt][Ss]2?))'\n",
    "patron_m2 =  r'(\\d{1,3}[\\.,]?\\d{0,3})\\s?(([Mm]2)|([Mm][Tt][Ss]2?))\\s?([Dd][Ee])?[Ss][Uu][Pp]'\n",
    "# patron_m2 =  r'[Ss][Uu][Pp][Ee][Rr][Ff][Ii][Cc][Ii][Ee]([Dd][Ee])?(\\d{1,3}[\\.,]?\\d{0,3})\\s?(([Mm]2)|([Mm][Tt][Ss]2?))?'\n",
    "#con esos dos patrones de arriba saco solamente 50 registros\n",
    "# patron_m2 =  r'(\\d{1,3}[\\.,]?\\d{0,3})\\s?(([Mm]2)|([Mm][Tt][Ss]2?))\\s?[Tt][Oo][Tt]'\n",
    "# patron_m2_cov =  r'[Mm]2'\n",
    "patron_m2_cov = r'(\\d{1,3}[\\.,]?\\d{0,3})\\s?(([Mm]2)|([Mm][Tt][Ss]2?))\\s?[Cc][Uu][Bb]'\n",
    "regex_m2 = re.compile(patron_m2)\n",
    "regex_m2_cov = re.compile(patron_m2_cov)\n",
    "m2_tot_null = data1[data1.surface_total_in_m2.isnull()].description\n",
    "m2_cov_null = data1[data1.surface_covered_in_m2.isnull()].description\n",
    "# (m2_tot_null.apply(lambda x: regex_m2.search(str(x)))).notnull().sum()\n",
    "# (m2_cov_null.apply(lambda x: regex_m2_cov.search(str(x)))).notnull().sum()\n",
    "m2_cov_null[(m2_cov_null.apply(lambda x: regex_m2_cov.search(str(x)))).notnull()].sample(5)\n",
    "# ,indice_cuv\n",
    "# pd.set_option(\"max_colwidth\",None)\n",
    "# m2_tot_null"
   ]
  },
  {
   "cell_type": "code",
   "execution_count": 30,
   "metadata": {},
   "outputs": [
    {
     "name": "stderr",
     "output_type": "stream",
     "text": [
      "C:\\ProgramData\\Anaconda3\\envs\\dhdsblend\\lib\\site-packages\\ipykernel_launcher.py:10: SettingWithCopyWarning: \n",
      "A value is trying to be set on a copy of a slice from a DataFrame.\n",
      "Try using .loc[row_indexer,col_indexer] = value instead\n",
      "\n",
      "See the caveats in the documentation: https://pandas.pydata.org/pandas-docs/stable/user_guide/indexing.html#returning-a-view-versus-a-copy\n",
      "  # Remove the CWD from sys.path while we load stuff.\n",
      "C:\\ProgramData\\Anaconda3\\envs\\dhdsblend\\lib\\site-packages\\ipykernel_launcher.py:11: SettingWithCopyWarning: \n",
      "A value is trying to be set on a copy of a slice from a DataFrame.\n",
      "Try using .loc[row_indexer,col_indexer] = value instead\n",
      "\n",
      "See the caveats in the documentation: https://pandas.pydata.org/pandas-docs/stable/user_guide/indexing.html#returning-a-view-versus-a-copy\n",
      "  # This is added back by InteractiveShellApp.init_path()\n"
     ]
    }
   ],
   "source": [
    "# quiero ver de donde sale el precio por metro cuadrado \n",
    "preciom2_total_pesos = data1.price_aprox_local_currency / data1.surface_total_in_m2\n",
    "preciom2_total_usd = data1.price_aprox_usd / data1.surface_total_in_m2\n",
    "preciom2_cov_pesos = data1.price_aprox_local_currency / data1.surface_covered_in_m2\n",
    "preciom2_cov_usd = data1.price_aprox_usd / data1.surface_covered_in_m2\n",
    "preciom2_total = data1.price / data1.surface_total_in_m2\n",
    "preciom2_total_cov = data1.price / data1.surface_covered_in_m2\n",
    "preciom2_total_price_dolar = data1.price_dolar / data1.surface_total_in_m2\n",
    "preciom2_cov_price_dolar = data1.price_dolar / data1.surface_covered_in_m2\n",
    "data1[\"pricem2_covered_usd\"] = (data1.price_dolar / data1.surface_covered_in_m2).copy()\n",
    "data1[\"pricem2_total_usd\"] = (data1.price_dolar / data1.surface_total_in_m2).copy()"
   ]
  },
  {
   "cell_type": "code",
   "execution_count": 31,
   "metadata": {},
   "outputs": [],
   "source": [
    "# (preciom2 == data.price_per_m2).sum(),(preciom2usd == data.price_usd_per_m2).sum(),(preciototal == data.price_usd_per_m2).sum(),(preciototal == data.price_per_m2).sum(),(preciototal_cov == data.price_per_m2).sum()\n",
    "# preciom2cov = data.price_aprox_local_currency / data.price_per_m2\n",
    "# veo el total de resultados que obtuve \n",
    "# (preciototal == data.price_usd_per_m2).sum() + (preciototal == data.price_per_m2).sum() + (preciototal_cov == data.price_per_m2).sum(),"
   ]
  },
  {
   "cell_type": "code",
   "execution_count": 32,
   "metadata": {},
   "outputs": [
    {
     "name": "stdout",
     "output_type": "stream",
     "text": [
      "cantidad de precios iguales entre precio por m2 total de la columna price y price_per_m2\n",
      " 20719\n",
      "cantidad de precios iguales entre precio por m2 cubierto de la columna price y price_per_m2\n",
      " 85043\n",
      "cantidad de precios iguales entre precio por m2 total de la columna price y price_usd_per_m2\n",
      " 58348\n",
      "cantidad de precios iguales entre precio por m2 cubierto de la columna price y price_usd_per_m2\n",
      " 18703\n",
      "cantidad de precios iguales entre precio por m2 total en pesos y price_per_m2\n",
      " 74\n",
      "cantidad de precios iguales entre precio por m2 cubierto en pesos y price_per_m2\n",
      " 276\n",
      "cantidad de precios iguales entre precio por m2 total en dolares y price_per_m2\n",
      " 18703\n",
      "cantidad de precios iguales entre precio por m2 cubiert en dolares y price_per_m2\n",
      " 75156\n",
      "cantidad de precios iguales entre precio por m2 total en dolares y price_usd_per_m2 \n",
      " 66318\n",
      "cantidad de precios iguales entre precio por m2 cubiert en dolares y price_usd_per_m2 \n",
      " 20884\n",
      "cantidad de precios iguales entre precio por m2 total DE LA COLUMNA PRICE_DOLAR y price_usd_per_m2 \n",
      " 66318\n",
      "cantidad de precios iguales entre precio por m2 cubiert DE LA COLUMNA PRICE DOLAR y price_usd_per_m2 \n",
      " 20884\n",
      "cantidad entradas no nulos en data.price_per_m2\n",
      " 85043\n",
      "cantidad entradas no nulos en data.price_usd_per_m2\n",
      " 66318\n"
     ]
    }
   ],
   "source": [
    "# print(\"precio por m2 total en pesos\\n\",preciom2_total_pesos)\n",
    "# print(\"precio por m2 total en pesos, columna price\\n\",preciom2_total)\n",
    "print(\"cantidad de precios iguales entre precio por m2 total de la columna price y price_per_m2\\n\",(round(preciom2_total,-2) == round(data1.price_per_m2,-2)).sum())\n",
    "print(\"cantidad de precios iguales entre precio por m2 cubierto de la columna price y price_per_m2\\n\",(round(preciom2_total_cov,-2) == round(data1.price_per_m2,-2)).sum())\n",
    "print(\"cantidad de precios iguales entre precio por m2 total de la columna price y price_usd_per_m2\\n\",(round(preciom2_total,-2) == round(data1.price_usd_per_m2,-2)).sum())\n",
    "print(\"cantidad de precios iguales entre precio por m2 cubierto de la columna price y price_usd_per_m2\\n\",(round(preciom2_total_cov,-2) == round(data1.price_usd_per_m2,-2)).sum())\n",
    "print(\"cantidad de precios iguales entre precio por m2 total en pesos y price_per_m2\\n\",(round(preciom2_total_pesos,-2) == round(data1.price_per_m2,-2)).sum())\n",
    "print(\"cantidad de precios iguales entre precio por m2 cubierto en pesos y price_per_m2\\n\",(round(preciom2_cov_pesos,-2) == round(data1.price_per_m2,-2)).sum())\n",
    "print(\"cantidad de precios iguales entre precio por m2 total en dolares y price_per_m2\\n\",(round(preciom2_total_usd,-2) == round(data1.price_per_m2,-2)).sum())\n",
    "print(\"cantidad de precios iguales entre precio por m2 cubiert en dolares y price_per_m2\\n\",(round(preciom2_cov_usd,-2) == round(data1.price_per_m2,-2)).sum())\n",
    "print(\"cantidad de precios iguales entre precio por m2 total en dolares y price_usd_per_m2 \\n\",(round(preciom2_total_usd,-2) == round(data1.price_usd_per_m2,-2)).sum())\n",
    "print(\"cantidad de precios iguales entre precio por m2 cubiert en dolares y price_usd_per_m2 \\n\",(round(preciom2_cov_usd,-2) == round(data1.price_usd_per_m2,-2)).sum())\n",
    "print(\"cantidad de precios iguales entre precio por m2 total DE LA COLUMNA PRICE_DOLAR y price_usd_per_m2 \\n\",(round(preciom2_total_price_dolar,-2) == round(data1.price_usd_per_m2,-2)).sum())\n",
    "print(\"cantidad de precios iguales entre precio por m2 cubiert DE LA COLUMNA PRICE DOLAR y price_usd_per_m2 \\n\",(round(preciom2_cov_price_dolar,-2) == round(data1.price_usd_per_m2,-2)).sum())\n",
    "print(\"cantidad entradas no nulos en data.price_per_m2\\n\",data1.price_per_m2.notnull().sum())\n",
    "print(\"cantidad entradas no nulos en data.price_usd_per_m2\\n\",data1.price_usd_per_m2.notnull().sum())"
   ]
  },
  {
   "cell_type": "code",
   "execution_count": 33,
   "metadata": {},
   "outputs": [
    {
     "data": {
      "text/plain": [
       "87074"
      ]
     },
     "execution_count": 33,
     "metadata": {},
     "output_type": "execute_result"
    }
   ],
   "source": [
    "preciom2_total_cov.notnull().sum()\n",
    "preciom2_cov_price_dolar.notnull().sum()"
   ]
  },
  {
   "cell_type": "markdown",
   "metadata": {},
   "source": [
    "# de esto saco que price_per_m2 es de la superficie cubierta "
   ]
  },
  {
   "cell_type": "code",
   "execution_count": 34,
   "metadata": {},
   "outputs": [
    {
     "data": {
      "text/plain": [
       "0         1550.000000\n",
       "1                 NaN\n",
       "2         1309.090909\n",
       "3                 NaN\n",
       "4         1828.571429\n",
       "             ...     \n",
       "121215    9354.838710\n",
       "121216    1383.333333\n",
       "121217    3371.794872\n",
       "121218    1997.916667\n",
       "121219    1675.324675\n",
       "Name: price_per_m2, Length: 115151, dtype: float64"
      ]
     },
     "execution_count": 34,
     "metadata": {},
     "output_type": "execute_result"
    }
   ],
   "source": [
    "data1.price_per_m2"
   ]
  },
  {
   "cell_type": "code",
   "execution_count": 35,
   "metadata": {},
   "outputs": [
    {
     "name": "stderr",
     "output_type": "stream",
     "text": [
      "C:\\ProgramData\\Anaconda3\\envs\\dhdsblend\\lib\\site-packages\\pandas\\core\\indexing.py:966: SettingWithCopyWarning: \n",
      "A value is trying to be set on a copy of a slice from a DataFrame.\n",
      "Try using .loc[row_indexer,col_indexer] = value instead\n",
      "\n",
      "See the caveats in the documentation: https://pandas.pydata.org/pandas-docs/stable/user_guide/indexing.html#returning-a-view-versus-a-copy\n",
      "  self.obj[item] = s\n"
     ]
    },
    {
     "data": {
      "text/plain": [
       "1780"
      ]
     },
     "execution_count": 35,
     "metadata": {},
     "output_type": "execute_result"
    }
   ],
   "source": [
    "# me fijo que tengo 249 registros que obtuve de dividir la columna price_aprox_usd en los metros cuadrados totales, y obtuve 1780 registros si uso la columna price_dolar que cree \n",
    "# (preciom2_total_usd.notnull() & data.price_usd_per_m2.isnull()).sum(),(preciom2_total_price_dolar.notnull() & data.price_usd_per_m2.isnull()).sum(),preciom2_total_usd.notnull().sum(),data.price_usd_per_m2.notnull().sum()\n",
    "mascara_m2_dolar = preciom2_total_price_dolar.notnull() & data.price_usd_per_m2.isnull()\n",
    "precio_m2_dolares = preciom2_total_price_dolar[mascara_m2_dolar]\n",
    "precio_m2_dolares.replace([np.inf,-np.inf],np.NaN,inplace=True)\n",
    "precio_m2_dolares.dropna(how=\"all\",inplace=True)\n",
    "indices = precio_m2_dolares.index\n",
    "data1.loc[indices,\"price_m2_dolar\"] = precio_m2_dolares.copy()\n",
    "precio_m2_dolares.count()"
   ]
  },
  {
   "cell_type": "code",
   "execution_count": 36,
   "metadata": {},
   "outputs": [
    {
     "data": {
      "text/plain": [
       "(True, True)"
      ]
     },
     "execution_count": 36,
     "metadata": {},
     "output_type": "execute_result"
    }
   ],
   "source": [
    "# Me di cuenta que todos los registros que son iguales a preciom2_total == data1.price_per_m2 estan contenidos en preciom2_total_cov == data1.price_per_m2 pasa lo mismo con la columna de dolares \n",
    "((preciom2_total == data1.price_per_m2)  & (preciom2_total_cov == data1.price_per_m2)).sum()\n",
    "set(preciom2_total[preciom2_total == data1.price_per_m2]).issubset(set(preciom2_total_cov[preciom2_total_cov == data1.price_per_m2])),set(preciom2_total_usd[preciom2_total_usd == data1.price_per_m2]).issubset(set(preciom2_cov_usd[preciom2_cov_usd == data1.price_per_m2]))"
   ]
  },
  {
   "cell_type": "code",
   "execution_count": 37,
   "metadata": {},
   "outputs": [
    {
     "data": {
      "text/plain": [
       "51485"
      ]
     },
     "execution_count": 37,
     "metadata": {},
     "output_type": "execute_result"
    }
   ],
   "source": [
    "# Al contrario de lo que pasa en la columna price_per_m2, ahora hay mas registros iguales en la columna de preciom2_total_usd y la variable preciom2_cov_usd es un subcojunto de esta cuando la igualo a price_usd_per_m2. lo mismo para la columna price\n",
    "set(preciom2_cov_usd[preciom2_cov_usd == data1.price_usd_per_m2]).issubset(set(preciom2_total_usd[preciom2_total_usd == data1.price_usd_per_m2]))\n",
    "set(preciom2_total_cov[preciom2_total_cov == data1.price_usd_per_m2]).issubset(set(preciom2_total[preciom2_total == data1.price_usd_per_m2]))\n",
    "set(preciom2_cov_usd[preciom2_cov_usd == data1.price_usd_per_m2]).issubset(set(preciom2_total_cov[preciom2_total_cov == data1.price_usd_per_m2]))\n",
    "((preciom2_total_cov == data1.price_per_m2)  & (preciom2_cov_usd == data1.price_per_m2)).sum()\n",
    "# preciom2_total_usd == data1.price_usd_per_m2"
   ]
  },
  {
   "cell_type": "code",
   "execution_count": 38,
   "metadata": {},
   "outputs": [
    {
     "data": {
      "text/plain": [
       "(85325, 97882, 97882)"
      ]
     },
     "execution_count": 38,
     "metadata": {},
     "output_type": "execute_result"
    }
   ],
   "source": [
    "(data1[\"price\"] == data1[\"price_aprox_usd\"]).sum(),data1[\"price\"].notnull().sum(),data1[\"price_aprox_usd\"].notnull().sum()"
   ]
  },
  {
   "cell_type": "code",
   "execution_count": 39,
   "metadata": {},
   "outputs": [
    {
     "data": {
      "text/plain": [
       "(1, 97882, 97882)"
      ]
     },
     "execution_count": 39,
     "metadata": {},
     "output_type": "execute_result"
    }
   ],
   "source": [
    "(data1[\"price\"] == data1[\"price_aprox_local_currency\"]).sum(),data1[\"price\"].notnull().sum(),data1[\"price_aprox_local_currency\"].notnull().sum()"
   ]
  },
  {
   "cell_type": "code",
   "execution_count": 41,
   "metadata": {},
   "outputs": [],
   "source": [
    "# quiero ver  cuales son los precio por m2 que estan en pesos, si redondeo encuentro mas que coinciden \n",
    "mascara_pesos = (data1[data1.price.notnull()][\"price\"] != data1[data1.price_aprox_usd.notnull()][\"price_aprox_usd\"])\n",
    "data1_price_notnull = data1[data1.price.notnull()].price\n",
    "preciom2_total_pesos_masc = data1_price_notnull[mascara_pesos].round() / data1.loc[mascara_pesos.index].surface_total_in_m2\n",
    "# (preciom2_total_pesos_masc.round(-2) == data1.price_per_m2.loc[mascara.index].round(-2)).sum()\n",
    "# preciom2_total_pesos_masc[preciom2_total_pesos_masc.notnull()].round(-3)\n",
    "# data1_price_notnull[mascara_pesos]\n",
    "# data1.price / data1.surface_total_in_m2\n",
    "# preciom2_total_cov = data1.price / data1.surface_covered_in_m2\n",
    "# (preciom2_total[mascara_pesos] == data1.price_per_m2).sum()\n",
    "# (preciom2_total_cov == data1.price_per_m2)"
   ]
  },
  {
   "cell_type": "code",
   "execution_count": 42,
   "metadata": {},
   "outputs": [
    {
     "data": {
      "text/html": [
       "<div>\n",
       "<style scoped>\n",
       "    .dataframe tbody tr th:only-of-type {\n",
       "        vertical-align: middle;\n",
       "    }\n",
       "\n",
       "    .dataframe tbody tr th {\n",
       "        vertical-align: top;\n",
       "    }\n",
       "\n",
       "    .dataframe thead th {\n",
       "        text-align: right;\n",
       "    }\n",
       "</style>\n",
       "<table border=\"1\" class=\"dataframe\">\n",
       "  <thead>\n",
       "    <tr style=\"text-align: right;\">\n",
       "      <th></th>\n",
       "      <th>price</th>\n",
       "      <th>price_aprox_usd</th>\n",
       "      <th>price_aprox_local_currency</th>\n",
       "    </tr>\n",
       "  </thead>\n",
       "  <tbody>\n",
       "    <tr>\n",
       "      <th>54964</th>\n",
       "      <td>1000000.0</td>\n",
       "      <td>60000.0</td>\n",
       "      <td>990000.0</td>\n",
       "    </tr>\n",
       "    <tr>\n",
       "      <th>67628</th>\n",
       "      <td>1440000.0</td>\n",
       "      <td>80000.0</td>\n",
       "      <td>1420000.0</td>\n",
       "    </tr>\n",
       "    <tr>\n",
       "      <th>112845</th>\n",
       "      <td>5860000.0</td>\n",
       "      <td>330000.0</td>\n",
       "      <td>5800000.0</td>\n",
       "    </tr>\n",
       "    <tr>\n",
       "      <th>120426</th>\n",
       "      <td>1400000.0</td>\n",
       "      <td>80000.0</td>\n",
       "      <td>1390000.0</td>\n",
       "    </tr>\n",
       "    <tr>\n",
       "      <th>45857</th>\n",
       "      <td>780000.0</td>\n",
       "      <td>40000.0</td>\n",
       "      <td>770000.0</td>\n",
       "    </tr>\n",
       "    <tr>\n",
       "      <th>37433</th>\n",
       "      <td>2320000.0</td>\n",
       "      <td>130000.0</td>\n",
       "      <td>2300000.0</td>\n",
       "    </tr>\n",
       "    <tr>\n",
       "      <th>94740</th>\n",
       "      <td>1830000.0</td>\n",
       "      <td>100000.0</td>\n",
       "      <td>1810000.0</td>\n",
       "    </tr>\n",
       "    <tr>\n",
       "      <th>15227</th>\n",
       "      <td>5340000.0</td>\n",
       "      <td>300000.0</td>\n",
       "      <td>5280000.0</td>\n",
       "    </tr>\n",
       "    <tr>\n",
       "      <th>13945</th>\n",
       "      <td>770000.0</td>\n",
       "      <td>40000.0</td>\n",
       "      <td>760000.0</td>\n",
       "    </tr>\n",
       "    <tr>\n",
       "      <th>72660</th>\n",
       "      <td>4080000.0</td>\n",
       "      <td>230000.0</td>\n",
       "      <td>4040000.0</td>\n",
       "    </tr>\n",
       "    <tr>\n",
       "      <th>68923</th>\n",
       "      <td>1410000.0</td>\n",
       "      <td>80000.0</td>\n",
       "      <td>1390000.0</td>\n",
       "    </tr>\n",
       "    <tr>\n",
       "      <th>4773</th>\n",
       "      <td>1500000.0</td>\n",
       "      <td>80000.0</td>\n",
       "      <td>1480000.0</td>\n",
       "    </tr>\n",
       "    <tr>\n",
       "      <th>80698</th>\n",
       "      <td>1480000.0</td>\n",
       "      <td>80000.0</td>\n",
       "      <td>1470000.0</td>\n",
       "    </tr>\n",
       "    <tr>\n",
       "      <th>115105</th>\n",
       "      <td>1250000.0</td>\n",
       "      <td>70000.0</td>\n",
       "      <td>1240000.0</td>\n",
       "    </tr>\n",
       "    <tr>\n",
       "      <th>107397</th>\n",
       "      <td>1260000.0</td>\n",
       "      <td>70000.0</td>\n",
       "      <td>1250000.0</td>\n",
       "    </tr>\n",
       "    <tr>\n",
       "      <th>111026</th>\n",
       "      <td>1590000.0</td>\n",
       "      <td>90000.0</td>\n",
       "      <td>1570000.0</td>\n",
       "    </tr>\n",
       "    <tr>\n",
       "      <th>86603</th>\n",
       "      <td>980000.0</td>\n",
       "      <td>60000.0</td>\n",
       "      <td>970000.0</td>\n",
       "    </tr>\n",
       "    <tr>\n",
       "      <th>10943</th>\n",
       "      <td>1820000.0</td>\n",
       "      <td>100000.0</td>\n",
       "      <td>1800000.0</td>\n",
       "    </tr>\n",
       "    <tr>\n",
       "      <th>116075</th>\n",
       "      <td>1900000.0</td>\n",
       "      <td>110000.0</td>\n",
       "      <td>1880000.0</td>\n",
       "    </tr>\n",
       "    <tr>\n",
       "      <th>28172</th>\n",
       "      <td>3720000.0</td>\n",
       "      <td>210000.0</td>\n",
       "      <td>3680000.0</td>\n",
       "    </tr>\n",
       "  </tbody>\n",
       "</table>\n",
       "</div>"
      ],
      "text/plain": [
       "            price  price_aprox_usd  price_aprox_local_currency\n",
       "54964   1000000.0          60000.0                    990000.0\n",
       "67628   1440000.0          80000.0                   1420000.0\n",
       "112845  5860000.0         330000.0                   5800000.0\n",
       "120426  1400000.0          80000.0                   1390000.0\n",
       "45857    780000.0          40000.0                    770000.0\n",
       "37433   2320000.0         130000.0                   2300000.0\n",
       "94740   1830000.0         100000.0                   1810000.0\n",
       "15227   5340000.0         300000.0                   5280000.0\n",
       "13945    770000.0          40000.0                    760000.0\n",
       "72660   4080000.0         230000.0                   4040000.0\n",
       "68923   1410000.0          80000.0                   1390000.0\n",
       "4773    1500000.0          80000.0                   1480000.0\n",
       "80698   1480000.0          80000.0                   1470000.0\n",
       "115105  1250000.0          70000.0                   1240000.0\n",
       "107397  1260000.0          70000.0                   1250000.0\n",
       "111026  1590000.0          90000.0                   1570000.0\n",
       "86603    980000.0          60000.0                    970000.0\n",
       "10943   1820000.0         100000.0                   1800000.0\n",
       "116075  1900000.0         110000.0                   1880000.0\n",
       "28172   3720000.0         210000.0                   3680000.0"
      ]
     },
     "execution_count": 42,
     "metadata": {},
     "output_type": "execute_result"
    }
   ],
   "source": [
    "pd.set_option(\"display.max_rows\",100)\n",
    "precios = data1[data1[\"price\"] != data1[\"price_aprox_usd\"]]\n",
    "precios[precios.price.notnull()][['price',\"price_aprox_usd\",\"price_aprox_local_currency\"]].sample(20).round(-4)\n",
    "# data1[data1[\"price\"] != data1[\"price_aprox_usd\"]][['price',\"price_aprox_usd\",\"price_aprox_local_currency\"]] "
   ]
  },
  {
   "cell_type": "markdown",
   "metadata": {},
   "source": [
    "<h1>matriz de correlacion<h1>"
   ]
  },
  {
   "cell_type": "code",
   "execution_count": 51,
   "metadata": {},
   "outputs": [
    {
     "name": "stderr",
     "output_type": "stream",
     "text": [
      "C:\\ProgramData\\Anaconda3\\envs\\dhdsblend\\lib\\site-packages\\ipykernel_launcher.py:1: SettingWithCopyWarning: \n",
      "A value is trying to be set on a copy of a slice from a DataFrame.\n",
      "Try using .loc[row_indexer,col_indexer] = value instead\n",
      "\n",
      "See the caveats in the documentation: https://pandas.pydata.org/pandas-docs/stable/user_guide/indexing.html#returning-a-view-versus-a-copy\n",
      "  \"\"\"Entry point for launching an IPython kernel.\n"
     ]
    }
   ],
   "source": [
    "data1['ambientes'] = data1.ambientes.astype(float)"
   ]
  },
  {
   "cell_type": "code",
   "execution_count": 52,
   "metadata": {},
   "outputs": [
    {
     "data": {
      "text/plain": [
       "Index(['Unnamed: 0', 'operation', 'property_type', 'place_name',\n",
       "       'place_with_parent_names', 'country_name', 'state_name', 'geonames_id',\n",
       "       'lat-lon', 'lat', 'lon', 'price', 'currency',\n",
       "       'price_aprox_local_currency', 'price_aprox_usd', 'surface_total_in_m2',\n",
       "       'surface_covered_in_m2', 'price_usd_per_m2', 'price_per_m2', 'floor',\n",
       "       'rooms', 'expenses', 'properati_url', 'description', 'title',\n",
       "       'image_thumbnail', 'price_dolar', 'ambientes', 'price_m2_dolar',\n",
       "       'pileta', 'pricem2_covered_usd', 'pricem2_total_usd'],\n",
       "      dtype='object')"
      ]
     },
     "execution_count": 52,
     "metadata": {},
     "output_type": "execute_result"
    }
   ],
   "source": [
    "data1.keys()"
   ]
  },
  {
   "cell_type": "code",
   "execution_count": 53,
   "metadata": {},
   "outputs": [
    {
     "data": {
      "text/html": [
       "<style  type=\"text/css\" >\n",
       "    #T_6ce42740_9906_11ea_8df0_b4b686d86f4crow0_col0 {\n",
       "            background-color:  #b40426;\n",
       "            color:  #f1f1f1;\n",
       "        }    #T_6ce42740_9906_11ea_8df0_b4b686d86f4crow0_col1 {\n",
       "            background-color:  #adc9fd;\n",
       "            color:  #000000;\n",
       "        }    #T_6ce42740_9906_11ea_8df0_b4b686d86f4crow0_col2 {\n",
       "            background-color:  #7ea1fa;\n",
       "            color:  #000000;\n",
       "        }    #T_6ce42740_9906_11ea_8df0_b4b686d86f4crow0_col3 {\n",
       "            background-color:  #3e51c5;\n",
       "            color:  #f1f1f1;\n",
       "        }    #T_6ce42740_9906_11ea_8df0_b4b686d86f4crow0_col4 {\n",
       "            background-color:  #80a3fa;\n",
       "            color:  #000000;\n",
       "        }    #T_6ce42740_9906_11ea_8df0_b4b686d86f4crow0_col5 {\n",
       "            background-color:  #6f92f3;\n",
       "            color:  #000000;\n",
       "        }    #T_6ce42740_9906_11ea_8df0_b4b686d86f4crow0_col6 {\n",
       "            background-color:  #5d7ce6;\n",
       "            color:  #000000;\n",
       "        }    #T_6ce42740_9906_11ea_8df0_b4b686d86f4crow0_col7 {\n",
       "            background-color:  #b5cdfa;\n",
       "            color:  #000000;\n",
       "        }    #T_6ce42740_9906_11ea_8df0_b4b686d86f4crow1_col0 {\n",
       "            background-color:  #9fbfff;\n",
       "            color:  #000000;\n",
       "        }    #T_6ce42740_9906_11ea_8df0_b4b686d86f4crow1_col1 {\n",
       "            background-color:  #b40426;\n",
       "            color:  #f1f1f1;\n",
       "        }    #T_6ce42740_9906_11ea_8df0_b4b686d86f4crow1_col2 {\n",
       "            background-color:  #8badfd;\n",
       "            color:  #000000;\n",
       "        }    #T_6ce42740_9906_11ea_8df0_b4b686d86f4crow1_col3 {\n",
       "            background-color:  #3b4cc0;\n",
       "            color:  #f1f1f1;\n",
       "        }    #T_6ce42740_9906_11ea_8df0_b4b686d86f4crow1_col4 {\n",
       "            background-color:  #6788ee;\n",
       "            color:  #000000;\n",
       "        }    #T_6ce42740_9906_11ea_8df0_b4b686d86f4crow1_col5 {\n",
       "            background-color:  #485fd1;\n",
       "            color:  #f1f1f1;\n",
       "        }    #T_6ce42740_9906_11ea_8df0_b4b686d86f4crow1_col6 {\n",
       "            background-color:  #3c4ec2;\n",
       "            color:  #f1f1f1;\n",
       "        }    #T_6ce42740_9906_11ea_8df0_b4b686d86f4crow1_col7 {\n",
       "            background-color:  #455cce;\n",
       "            color:  #f1f1f1;\n",
       "        }    #T_6ce42740_9906_11ea_8df0_b4b686d86f4crow2_col0 {\n",
       "            background-color:  #6c8ff1;\n",
       "            color:  #000000;\n",
       "        }    #T_6ce42740_9906_11ea_8df0_b4b686d86f4crow2_col1 {\n",
       "            background-color:  #8badfd;\n",
       "            color:  #000000;\n",
       "        }    #T_6ce42740_9906_11ea_8df0_b4b686d86f4crow2_col2 {\n",
       "            background-color:  #b40426;\n",
       "            color:  #f1f1f1;\n",
       "        }    #T_6ce42740_9906_11ea_8df0_b4b686d86f4crow2_col3 {\n",
       "            background-color:  #3b4cc0;\n",
       "            color:  #f1f1f1;\n",
       "        }    #T_6ce42740_9906_11ea_8df0_b4b686d86f4crow2_col4 {\n",
       "            background-color:  #6282ea;\n",
       "            color:  #000000;\n",
       "        }    #T_6ce42740_9906_11ea_8df0_b4b686d86f4crow2_col5 {\n",
       "            background-color:  #445acc;\n",
       "            color:  #f1f1f1;\n",
       "        }    #T_6ce42740_9906_11ea_8df0_b4b686d86f4crow2_col6 {\n",
       "            background-color:  #3b4cc0;\n",
       "            color:  #f1f1f1;\n",
       "        }    #T_6ce42740_9906_11ea_8df0_b4b686d86f4crow2_col7 {\n",
       "            background-color:  #455cce;\n",
       "            color:  #f1f1f1;\n",
       "        }    #T_6ce42740_9906_11ea_8df0_b4b686d86f4crow3_col0 {\n",
       "            background-color:  #3b4cc0;\n",
       "            color:  #f1f1f1;\n",
       "        }    #T_6ce42740_9906_11ea_8df0_b4b686d86f4crow3_col1 {\n",
       "            background-color:  #4961d2;\n",
       "            color:  #f1f1f1;\n",
       "        }    #T_6ce42740_9906_11ea_8df0_b4b686d86f4crow3_col2 {\n",
       "            background-color:  #4961d2;\n",
       "            color:  #f1f1f1;\n",
       "        }    #T_6ce42740_9906_11ea_8df0_b4b686d86f4crow3_col3 {\n",
       "            background-color:  #b40426;\n",
       "            color:  #f1f1f1;\n",
       "        }    #T_6ce42740_9906_11ea_8df0_b4b686d86f4crow3_col4 {\n",
       "            background-color:  #5470de;\n",
       "            color:  #000000;\n",
       "        }    #T_6ce42740_9906_11ea_8df0_b4b686d86f4crow3_col5 {\n",
       "            background-color:  #3b4cc0;\n",
       "            color:  #f1f1f1;\n",
       "        }    #T_6ce42740_9906_11ea_8df0_b4b686d86f4crow3_col6 {\n",
       "            background-color:  #3e51c5;\n",
       "            color:  #f1f1f1;\n",
       "        }    #T_6ce42740_9906_11ea_8df0_b4b686d86f4crow3_col7 {\n",
       "            background-color:  #5977e3;\n",
       "            color:  #000000;\n",
       "        }    #T_6ce42740_9906_11ea_8df0_b4b686d86f4crow4_col0 {\n",
       "            background-color:  #6384eb;\n",
       "            color:  #000000;\n",
       "        }    #T_6ce42740_9906_11ea_8df0_b4b686d86f4crow4_col1 {\n",
       "            background-color:  #5b7ae5;\n",
       "            color:  #000000;\n",
       "        }    #T_6ce42740_9906_11ea_8df0_b4b686d86f4crow4_col2 {\n",
       "            background-color:  #5875e1;\n",
       "            color:  #000000;\n",
       "        }    #T_6ce42740_9906_11ea_8df0_b4b686d86f4crow4_col3 {\n",
       "            background-color:  #3b4cc0;\n",
       "            color:  #f1f1f1;\n",
       "        }    #T_6ce42740_9906_11ea_8df0_b4b686d86f4crow4_col4 {\n",
       "            background-color:  #b40426;\n",
       "            color:  #f1f1f1;\n",
       "        }    #T_6ce42740_9906_11ea_8df0_b4b686d86f4crow4_col5 {\n",
       "            background-color:  #485fd1;\n",
       "            color:  #f1f1f1;\n",
       "        }    #T_6ce42740_9906_11ea_8df0_b4b686d86f4crow4_col6 {\n",
       "            background-color:  #4358cb;\n",
       "            color:  #f1f1f1;\n",
       "        }    #T_6ce42740_9906_11ea_8df0_b4b686d86f4crow4_col7 {\n",
       "            background-color:  #3b4cc0;\n",
       "            color:  #f1f1f1;\n",
       "        }    #T_6ce42740_9906_11ea_8df0_b4b686d86f4crow5_col0 {\n",
       "            background-color:  #6c8ff1;\n",
       "            color:  #000000;\n",
       "        }    #T_6ce42740_9906_11ea_8df0_b4b686d86f4crow5_col1 {\n",
       "            background-color:  #5673e0;\n",
       "            color:  #000000;\n",
       "        }    #T_6ce42740_9906_11ea_8df0_b4b686d86f4crow5_col2 {\n",
       "            background-color:  #5470de;\n",
       "            color:  #000000;\n",
       "        }    #T_6ce42740_9906_11ea_8df0_b4b686d86f4crow5_col3 {\n",
       "            background-color:  #3b4cc0;\n",
       "            color:  #f1f1f1;\n",
       "        }    #T_6ce42740_9906_11ea_8df0_b4b686d86f4crow5_col4 {\n",
       "            background-color:  #6282ea;\n",
       "            color:  #000000;\n",
       "        }    #T_6ce42740_9906_11ea_8df0_b4b686d86f4crow5_col5 {\n",
       "            background-color:  #b40426;\n",
       "            color:  #f1f1f1;\n",
       "        }    #T_6ce42740_9906_11ea_8df0_b4b686d86f4crow5_col6 {\n",
       "            background-color:  #3f53c6;\n",
       "            color:  #f1f1f1;\n",
       "        }    #T_6ce42740_9906_11ea_8df0_b4b686d86f4crow5_col7 {\n",
       "            background-color:  #5673e0;\n",
       "            color:  #000000;\n",
       "        }    #T_6ce42740_9906_11ea_8df0_b4b686d86f4crow6_col0 {\n",
       "            background-color:  #5572df;\n",
       "            color:  #000000;\n",
       "        }    #T_6ce42740_9906_11ea_8df0_b4b686d86f4crow6_col1 {\n",
       "            background-color:  #465ecf;\n",
       "            color:  #f1f1f1;\n",
       "        }    #T_6ce42740_9906_11ea_8df0_b4b686d86f4crow6_col2 {\n",
       "            background-color:  #455cce;\n",
       "            color:  #f1f1f1;\n",
       "        }    #T_6ce42740_9906_11ea_8df0_b4b686d86f4crow6_col3 {\n",
       "            background-color:  #3b4cc0;\n",
       "            color:  #f1f1f1;\n",
       "        }    #T_6ce42740_9906_11ea_8df0_b4b686d86f4crow6_col4 {\n",
       "            background-color:  #5977e3;\n",
       "            color:  #000000;\n",
       "        }    #T_6ce42740_9906_11ea_8df0_b4b686d86f4crow6_col5 {\n",
       "            background-color:  #3b4cc0;\n",
       "            color:  #f1f1f1;\n",
       "        }    #T_6ce42740_9906_11ea_8df0_b4b686d86f4crow6_col6 {\n",
       "            background-color:  #b40426;\n",
       "            color:  #f1f1f1;\n",
       "        }    #T_6ce42740_9906_11ea_8df0_b4b686d86f4crow6_col7 {\n",
       "            background-color:  #bed2f6;\n",
       "            color:  #000000;\n",
       "        }    #T_6ce42740_9906_11ea_8df0_b4b686d86f4crow7_col0 {\n",
       "            background-color:  #9fbfff;\n",
       "            color:  #000000;\n",
       "        }    #T_6ce42740_9906_11ea_8df0_b4b686d86f4crow7_col1 {\n",
       "            background-color:  #3b4cc0;\n",
       "            color:  #f1f1f1;\n",
       "        }    #T_6ce42740_9906_11ea_8df0_b4b686d86f4crow7_col2 {\n",
       "            background-color:  #3b4cc0;\n",
       "            color:  #f1f1f1;\n",
       "        }    #T_6ce42740_9906_11ea_8df0_b4b686d86f4crow7_col3 {\n",
       "            background-color:  #3f53c6;\n",
       "            color:  #f1f1f1;\n",
       "        }    #T_6ce42740_9906_11ea_8df0_b4b686d86f4crow7_col4 {\n",
       "            background-color:  #3b4cc0;\n",
       "            color:  #f1f1f1;\n",
       "        }    #T_6ce42740_9906_11ea_8df0_b4b686d86f4crow7_col5 {\n",
       "            background-color:  #3d50c3;\n",
       "            color:  #f1f1f1;\n",
       "        }    #T_6ce42740_9906_11ea_8df0_b4b686d86f4crow7_col6 {\n",
       "            background-color:  #adc9fd;\n",
       "            color:  #000000;\n",
       "        }    #T_6ce42740_9906_11ea_8df0_b4b686d86f4crow7_col7 {\n",
       "            background-color:  #b40426;\n",
       "            color:  #f1f1f1;\n",
       "        }</style><table id=\"T_6ce42740_9906_11ea_8df0_b4b686d86f4c\" ><thead>    <tr>        <th class=\"blank level0\" ></th>        <th class=\"col_heading level0 col0\" >price_dolar</th>        <th class=\"col_heading level0 col1\" >surface_total_in_m2</th>        <th class=\"col_heading level0 col2\" >surface_covered_in_m2</th>        <th class=\"col_heading level0 col3\" >expenses</th>        <th class=\"col_heading level0 col4\" >ambientes</th>        <th class=\"col_heading level0 col5\" >pileta</th>        <th class=\"col_heading level0 col6\" >pricem2_covered_usd</th>        <th class=\"col_heading level0 col7\" >pricem2_total_usd</th>    </tr></thead><tbody>\n",
       "                <tr>\n",
       "                        <th id=\"T_6ce42740_9906_11ea_8df0_b4b686d86f4clevel0_row0\" class=\"row_heading level0 row0\" >price_dolar</th>\n",
       "                        <td id=\"T_6ce42740_9906_11ea_8df0_b4b686d86f4crow0_col0\" class=\"data row0 col0\" >1.000000</td>\n",
       "                        <td id=\"T_6ce42740_9906_11ea_8df0_b4b686d86f4crow0_col1\" class=\"data row0 col1\" >0.309042</td>\n",
       "                        <td id=\"T_6ce42740_9906_11ea_8df0_b4b686d86f4crow0_col2\" class=\"data row0 col2\" >0.166628</td>\n",
       "                        <td id=\"T_6ce42740_9906_11ea_8df0_b4b686d86f4crow0_col3\" class=\"data row0 col3\" >0.010378</td>\n",
       "                        <td id=\"T_6ce42740_9906_11ea_8df0_b4b686d86f4crow0_col4\" class=\"data row0 col4\" >0.140861</td>\n",
       "                        <td id=\"T_6ce42740_9906_11ea_8df0_b4b686d86f4crow0_col5\" class=\"data row0 col5\" >0.165906</td>\n",
       "                        <td id=\"T_6ce42740_9906_11ea_8df0_b4b686d86f4crow0_col6\" class=\"data row0 col6\" >0.098629</td>\n",
       "                        <td id=\"T_6ce42740_9906_11ea_8df0_b4b686d86f4crow0_col7\" class=\"data row0 col7\" >0.308375</td>\n",
       "            </tr>\n",
       "            <tr>\n",
       "                        <th id=\"T_6ce42740_9906_11ea_8df0_b4b686d86f4clevel0_row1\" class=\"row_heading level0 row1\" >surface_total_in_m2</th>\n",
       "                        <td id=\"T_6ce42740_9906_11ea_8df0_b4b686d86f4crow1_col0\" class=\"data row1 col0\" >0.309042</td>\n",
       "                        <td id=\"T_6ce42740_9906_11ea_8df0_b4b686d86f4crow1_col1\" class=\"data row1 col1\" >1.000000</td>\n",
       "                        <td id=\"T_6ce42740_9906_11ea_8df0_b4b686d86f4crow1_col2\" class=\"data row1 col2\" >0.205837</td>\n",
       "                        <td id=\"T_6ce42740_9906_11ea_8df0_b4b686d86f4crow1_col3\" class=\"data row1 col3\" >-0.000034</td>\n",
       "                        <td id=\"T_6ce42740_9906_11ea_8df0_b4b686d86f4crow1_col4\" class=\"data row1 col4\" >0.062185</td>\n",
       "                        <td id=\"T_6ce42740_9906_11ea_8df0_b4b686d86f4crow1_col5\" class=\"data row1 col5\" >0.046011</td>\n",
       "                        <td id=\"T_6ce42740_9906_11ea_8df0_b4b686d86f4crow1_col6\" class=\"data row1 col6\" >-0.005714</td>\n",
       "                        <td id=\"T_6ce42740_9906_11ea_8df0_b4b686d86f4crow1_col7\" class=\"data row1 col7\" >-0.050416</td>\n",
       "            </tr>\n",
       "            <tr>\n",
       "                        <th id=\"T_6ce42740_9906_11ea_8df0_b4b686d86f4clevel0_row2\" class=\"row_heading level0 row2\" >surface_covered_in_m2</th>\n",
       "                        <td id=\"T_6ce42740_9906_11ea_8df0_b4b686d86f4crow2_col0\" class=\"data row2 col0\" >0.166628</td>\n",
       "                        <td id=\"T_6ce42740_9906_11ea_8df0_b4b686d86f4crow2_col1\" class=\"data row2 col1\" >0.205837</td>\n",
       "                        <td id=\"T_6ce42740_9906_11ea_8df0_b4b686d86f4crow2_col2\" class=\"data row2 col2\" >1.000000</td>\n",
       "                        <td id=\"T_6ce42740_9906_11ea_8df0_b4b686d86f4crow2_col3\" class=\"data row2 col3\" >0.000762</td>\n",
       "                        <td id=\"T_6ce42740_9906_11ea_8df0_b4b686d86f4crow2_col4\" class=\"data row2 col4\" >0.048540</td>\n",
       "                        <td id=\"T_6ce42740_9906_11ea_8df0_b4b686d86f4crow2_col5\" class=\"data row2 col5\" >0.035426</td>\n",
       "                        <td id=\"T_6ce42740_9906_11ea_8df0_b4b686d86f4crow2_col6\" class=\"data row2 col6\" >-0.012459</td>\n",
       "                        <td id=\"T_6ce42740_9906_11ea_8df0_b4b686d86f4crow2_col7\" class=\"data row2 col7\" >-0.051303</td>\n",
       "            </tr>\n",
       "            <tr>\n",
       "                        <th id=\"T_6ce42740_9906_11ea_8df0_b4b686d86f4clevel0_row3\" class=\"row_heading level0 row3\" >expenses</th>\n",
       "                        <td id=\"T_6ce42740_9906_11ea_8df0_b4b686d86f4crow3_col0\" class=\"data row3 col0\" >0.010378</td>\n",
       "                        <td id=\"T_6ce42740_9906_11ea_8df0_b4b686d86f4crow3_col1\" class=\"data row3 col1\" >-0.000034</td>\n",
       "                        <td id=\"T_6ce42740_9906_11ea_8df0_b4b686d86f4crow3_col2\" class=\"data row3 col2\" >0.000762</td>\n",
       "                        <td id=\"T_6ce42740_9906_11ea_8df0_b4b686d86f4crow3_col3\" class=\"data row3 col3\" >1.000000</td>\n",
       "                        <td id=\"T_6ce42740_9906_11ea_8df0_b4b686d86f4crow3_col4\" class=\"data row3 col4\" >-0.001573</td>\n",
       "                        <td id=\"T_6ce42740_9906_11ea_8df0_b4b686d86f4crow3_col5\" class=\"data row3 col5\" >0.001696</td>\n",
       "                        <td id=\"T_6ce42740_9906_11ea_8df0_b4b686d86f4crow3_col6\" class=\"data row3 col6\" >0.001220</td>\n",
       "                        <td id=\"T_6ce42740_9906_11ea_8df0_b4b686d86f4crow3_col7\" class=\"data row3 col7\" >0.016302</td>\n",
       "            </tr>\n",
       "            <tr>\n",
       "                        <th id=\"T_6ce42740_9906_11ea_8df0_b4b686d86f4clevel0_row4\" class=\"row_heading level0 row4\" >ambientes</th>\n",
       "                        <td id=\"T_6ce42740_9906_11ea_8df0_b4b686d86f4crow4_col0\" class=\"data row4 col0\" >0.140861</td>\n",
       "                        <td id=\"T_6ce42740_9906_11ea_8df0_b4b686d86f4crow4_col1\" class=\"data row4 col1\" >0.062185</td>\n",
       "                        <td id=\"T_6ce42740_9906_11ea_8df0_b4b686d86f4crow4_col2\" class=\"data row4 col2\" >0.048540</td>\n",
       "                        <td id=\"T_6ce42740_9906_11ea_8df0_b4b686d86f4crow4_col3\" class=\"data row4 col3\" >-0.001573</td>\n",
       "                        <td id=\"T_6ce42740_9906_11ea_8df0_b4b686d86f4crow4_col4\" class=\"data row4 col4\" >1.000000</td>\n",
       "                        <td id=\"T_6ce42740_9906_11ea_8df0_b4b686d86f4crow4_col5\" class=\"data row4 col5\" >0.045846</td>\n",
       "                        <td id=\"T_6ce42740_9906_11ea_8df0_b4b686d86f4crow4_col6\" class=\"data row4 col6\" >0.018394</td>\n",
       "                        <td id=\"T_6ce42740_9906_11ea_8df0_b4b686d86f4crow4_col7\" class=\"data row4 col7\" >-0.091501</td>\n",
       "            </tr>\n",
       "            <tr>\n",
       "                        <th id=\"T_6ce42740_9906_11ea_8df0_b4b686d86f4clevel0_row5\" class=\"row_heading level0 row5\" >pileta</th>\n",
       "                        <td id=\"T_6ce42740_9906_11ea_8df0_b4b686d86f4crow5_col0\" class=\"data row5 col0\" >0.165906</td>\n",
       "                        <td id=\"T_6ce42740_9906_11ea_8df0_b4b686d86f4crow5_col1\" class=\"data row5 col1\" >0.046011</td>\n",
       "                        <td id=\"T_6ce42740_9906_11ea_8df0_b4b686d86f4crow5_col2\" class=\"data row5 col2\" >0.035426</td>\n",
       "                        <td id=\"T_6ce42740_9906_11ea_8df0_b4b686d86f4crow5_col3\" class=\"data row5 col3\" >0.001696</td>\n",
       "                        <td id=\"T_6ce42740_9906_11ea_8df0_b4b686d86f4crow5_col4\" class=\"data row5 col4\" >0.045846</td>\n",
       "                        <td id=\"T_6ce42740_9906_11ea_8df0_b4b686d86f4crow5_col5\" class=\"data row5 col5\" >1.000000</td>\n",
       "                        <td id=\"T_6ce42740_9906_11ea_8df0_b4b686d86f4crow5_col6\" class=\"data row5 col6\" >0.005372</td>\n",
       "                        <td id=\"T_6ce42740_9906_11ea_8df0_b4b686d86f4crow5_col7\" class=\"data row5 col7\" >0.010305</td>\n",
       "            </tr>\n",
       "            <tr>\n",
       "                        <th id=\"T_6ce42740_9906_11ea_8df0_b4b686d86f4clevel0_row6\" class=\"row_heading level0 row6\" >pricem2_covered_usd</th>\n",
       "                        <td id=\"T_6ce42740_9906_11ea_8df0_b4b686d86f4crow6_col0\" class=\"data row6 col0\" >0.098629</td>\n",
       "                        <td id=\"T_6ce42740_9906_11ea_8df0_b4b686d86f4crow6_col1\" class=\"data row6 col1\" >-0.005714</td>\n",
       "                        <td id=\"T_6ce42740_9906_11ea_8df0_b4b686d86f4crow6_col2\" class=\"data row6 col2\" >-0.012459</td>\n",
       "                        <td id=\"T_6ce42740_9906_11ea_8df0_b4b686d86f4crow6_col3\" class=\"data row6 col3\" >0.001220</td>\n",
       "                        <td id=\"T_6ce42740_9906_11ea_8df0_b4b686d86f4crow6_col4\" class=\"data row6 col4\" >0.018394</td>\n",
       "                        <td id=\"T_6ce42740_9906_11ea_8df0_b4b686d86f4crow6_col5\" class=\"data row6 col5\" >0.005372</td>\n",
       "                        <td id=\"T_6ce42740_9906_11ea_8df0_b4b686d86f4crow6_col6\" class=\"data row6 col6\" >1.000000</td>\n",
       "                        <td id=\"T_6ce42740_9906_11ea_8df0_b4b686d86f4crow6_col7\" class=\"data row6 col7\" >0.335226</td>\n",
       "            </tr>\n",
       "            <tr>\n",
       "                        <th id=\"T_6ce42740_9906_11ea_8df0_b4b686d86f4clevel0_row7\" class=\"row_heading level0 row7\" >pricem2_total_usd</th>\n",
       "                        <td id=\"T_6ce42740_9906_11ea_8df0_b4b686d86f4crow7_col0\" class=\"data row7 col0\" >0.308375</td>\n",
       "                        <td id=\"T_6ce42740_9906_11ea_8df0_b4b686d86f4crow7_col1\" class=\"data row7 col1\" >-0.050416</td>\n",
       "                        <td id=\"T_6ce42740_9906_11ea_8df0_b4b686d86f4crow7_col2\" class=\"data row7 col2\" >-0.051303</td>\n",
       "                        <td id=\"T_6ce42740_9906_11ea_8df0_b4b686d86f4crow7_col3\" class=\"data row7 col3\" >0.016302</td>\n",
       "                        <td id=\"T_6ce42740_9906_11ea_8df0_b4b686d86f4crow7_col4\" class=\"data row7 col4\" >-0.091501</td>\n",
       "                        <td id=\"T_6ce42740_9906_11ea_8df0_b4b686d86f4crow7_col5\" class=\"data row7 col5\" >0.010305</td>\n",
       "                        <td id=\"T_6ce42740_9906_11ea_8df0_b4b686d86f4crow7_col6\" class=\"data row7 col6\" >0.335226</td>\n",
       "                        <td id=\"T_6ce42740_9906_11ea_8df0_b4b686d86f4crow7_col7\" class=\"data row7 col7\" >1.000000</td>\n",
       "            </tr>\n",
       "    </tbody></table>"
      ],
      "text/plain": [
       "<pandas.io.formats.style.Styler at 0x28d28918148>"
      ]
     },
     "execution_count": 53,
     "metadata": {},
     "output_type": "execute_result"
    }
   ],
   "source": [
    "correlacion = data1[['price_dolar','surface_total_in_m2',\n",
    "       'surface_covered_in_m2','expenses','ambientes','pileta', 'pricem2_covered_usd', 'pricem2_total_usd']]\n",
    "corr = correlacion.corr()\n",
    "corr.style.background_gradient(cmap='coolwarm')"
   ]
  },
  {
   "cell_type": "code",
   "execution_count": 169,
   "metadata": {},
   "outputs": [
    {
     "data": {
      "text/plain": [
       "<matplotlib.axes._subplots.AxesSubplot at 0x28d59e6f9c8>"
      ]
     },
     "execution_count": 169,
     "metadata": {},
     "output_type": "execute_result"
    },
    {
     "data": {
      "image/png": "[encoded data removed]",
      "text/plain": [
       "<Figure size 720x576 with 2 Axes>"
      ]
     },
     "metadata": {
      "needs_background": "light"
     },
     "output_type": "display_data"
    }
   ],
   "source": [
    "f, ax = plt.subplots(figsize=(10, 8))\n",
    "sns.heatmap(corr, mask=np.zeros_like(corr, dtype=np.bool),annot=True, cmap=sns.diverging_palette(220, 10, as_cmap=True),\n",
    "            square=True, ax=ax)"
   ]
  },
  {
   "cell_type": "markdown",
   "metadata": {},
   "source": [
    "<h2>Empiezo con los graficos<h2>"
   ]
  },
  {
   "cell_type": "code",
   "execution_count": 55,
   "metadata": {},
   "outputs": [
    {
     "data": {
      "text/html": [
       "<div>\n",
       "<style scoped>\n",
       "    .dataframe tbody tr th:only-of-type {\n",
       "        vertical-align: middle;\n",
       "    }\n",
       "\n",
       "    .dataframe tbody tr th {\n",
       "        vertical-align: top;\n",
       "    }\n",
       "\n",
       "    .dataframe thead th {\n",
       "        text-align: right;\n",
       "    }\n",
       "</style>\n",
       "<table border=\"1\" class=\"dataframe\">\n",
       "  <thead>\n",
       "    <tr style=\"text-align: right;\">\n",
       "      <th></th>\n",
       "      <th>survived</th>\n",
       "      <th>pclass</th>\n",
       "      <th>sex</th>\n",
       "      <th>age</th>\n",
       "      <th>sibsp</th>\n",
       "      <th>parch</th>\n",
       "      <th>fare</th>\n",
       "      <th>embarked</th>\n",
       "      <th>class</th>\n",
       "      <th>who</th>\n",
       "      <th>adult_male</th>\n",
       "      <th>deck</th>\n",
       "      <th>embark_town</th>\n",
       "      <th>alive</th>\n",
       "      <th>alone</th>\n",
       "    </tr>\n",
       "  </thead>\n",
       "  <tbody>\n",
       "    <tr>\n",
       "      <th>0</th>\n",
       "      <td>0</td>\n",
       "      <td>3</td>\n",
       "      <td>male</td>\n",
       "      <td>22.0</td>\n",
       "      <td>1</td>\n",
       "      <td>0</td>\n",
       "      <td>7.2500</td>\n",
       "      <td>S</td>\n",
       "      <td>Third</td>\n",
       "      <td>man</td>\n",
       "      <td>True</td>\n",
       "      <td>NaN</td>\n",
       "      <td>Southampton</td>\n",
       "      <td>no</td>\n",
       "      <td>False</td>\n",
       "    </tr>\n",
       "    <tr>\n",
       "      <th>1</th>\n",
       "      <td>1</td>\n",
       "      <td>1</td>\n",
       "      <td>female</td>\n",
       "      <td>38.0</td>\n",
       "      <td>1</td>\n",
       "      <td>0</td>\n",
       "      <td>71.2833</td>\n",
       "      <td>C</td>\n",
       "      <td>First</td>\n",
       "      <td>woman</td>\n",
       "      <td>False</td>\n",
       "      <td>C</td>\n",
       "      <td>Cherbourg</td>\n",
       "      <td>yes</td>\n",
       "      <td>False</td>\n",
       "    </tr>\n",
       "    <tr>\n",
       "      <th>2</th>\n",
       "      <td>1</td>\n",
       "      <td>3</td>\n",
       "      <td>female</td>\n",
       "      <td>26.0</td>\n",
       "      <td>0</td>\n",
       "      <td>0</td>\n",
       "      <td>7.9250</td>\n",
       "      <td>S</td>\n",
       "      <td>Third</td>\n",
       "      <td>woman</td>\n",
       "      <td>False</td>\n",
       "      <td>NaN</td>\n",
       "      <td>Southampton</td>\n",
       "      <td>yes</td>\n",
       "      <td>True</td>\n",
       "    </tr>\n",
       "    <tr>\n",
       "      <th>3</th>\n",
       "      <td>1</td>\n",
       "      <td>1</td>\n",
       "      <td>female</td>\n",
       "      <td>35.0</td>\n",
       "      <td>1</td>\n",
       "      <td>0</td>\n",
       "      <td>53.1000</td>\n",
       "      <td>S</td>\n",
       "      <td>First</td>\n",
       "      <td>woman</td>\n",
       "      <td>False</td>\n",
       "      <td>C</td>\n",
       "      <td>Southampton</td>\n",
       "      <td>yes</td>\n",
       "      <td>False</td>\n",
       "    </tr>\n",
       "    <tr>\n",
       "      <th>4</th>\n",
       "      <td>0</td>\n",
       "      <td>3</td>\n",
       "      <td>male</td>\n",
       "      <td>35.0</td>\n",
       "      <td>0</td>\n",
       "      <td>0</td>\n",
       "      <td>8.0500</td>\n",
       "      <td>S</td>\n",
       "      <td>Third</td>\n",
       "      <td>man</td>\n",
       "      <td>True</td>\n",
       "      <td>NaN</td>\n",
       "      <td>Southampton</td>\n",
       "      <td>no</td>\n",
       "      <td>True</td>\n",
       "    </tr>\n",
       "  </tbody>\n",
       "</table>\n",
       "</div>"
      ],
      "text/plain": [
       "   survived  pclass     sex   age  sibsp  parch     fare embarked  class  \\\n",
       "0         0       3    male  22.0      1      0   7.2500        S  Third   \n",
       "1         1       1  female  38.0      1      0  71.2833        C  First   \n",
       "2         1       3  female  26.0      0      0   7.9250        S  Third   \n",
       "3         1       1  female  35.0      1      0  53.1000        S  First   \n",
       "4         0       3    male  35.0      0      0   8.0500        S  Third   \n",
       "\n",
       "     who  adult_male deck  embark_town alive  alone  \n",
       "0    man        True  NaN  Southampton    no  False  \n",
       "1  woman       False    C    Cherbourg   yes  False  \n",
       "2  woman       False  NaN  Southampton   yes   True  \n",
       "3  woman       False    C  Southampton   yes  False  \n",
       "4    man        True  NaN  Southampton    no   True  "
      ]
     },
     "execution_count": 55,
     "metadata": {},
     "output_type": "execute_result"
    }
   ],
   "source": [
    "titanic = sns.load_dataset(\"titanic\")\n",
    "titanic.head()"
   ]
  },
  {
   "cell_type": "code",
   "execution_count": null,
   "metadata": {},
   "outputs": [],
   "source": [
    "# titanic = sns.load_dataset(\"titanic\")\n",
    "g = sns.catplot(\"alive\", col=\"deck\", col_wrap=4,\n",
    "                data=titanic[titanic.deck.notnull()],\n",
    "                kind=\"count\", height=2.5, aspect=.8)"
   ]
  },
  {
   "cell_type": "code",
   "execution_count": 73,
   "metadata": {},
   "outputs": [
    {
     "data": {
      "text/html": [
       "<div>\n",
       "<style scoped>\n",
       "    .dataframe tbody tr th:only-of-type {\n",
       "        vertical-align: middle;\n",
       "    }\n",
       "\n",
       "    .dataframe tbody tr th {\n",
       "        vertical-align: top;\n",
       "    }\n",
       "\n",
       "    .dataframe thead th {\n",
       "        text-align: right;\n",
       "    }\n",
       "</style>\n",
       "<table border=\"1\" class=\"dataframe\">\n",
       "  <thead>\n",
       "    <tr style=\"text-align: right;\">\n",
       "      <th></th>\n",
       "      <th>Nulos</th>\n",
       "      <th>variables</th>\n",
       "      <th>cuando</th>\n",
       "    </tr>\n",
       "  </thead>\n",
       "  <tbody>\n",
       "    <tr>\n",
       "      <th>price_aprox_usd</th>\n",
       "      <td>14.996830</td>\n",
       "      <td>price_dolar</td>\n",
       "      <td>Antes</td>\n",
       "    </tr>\n",
       "    <tr>\n",
       "      <th>price_dolar</th>\n",
       "      <td>13.174875</td>\n",
       "      <td>price_dolar</td>\n",
       "      <td>Despues</td>\n",
       "    </tr>\n",
       "    <tr>\n",
       "      <th>rooms</th>\n",
       "      <td>60.279112</td>\n",
       "      <td>rooms</td>\n",
       "      <td>Antes</td>\n",
       "    </tr>\n",
       "    <tr>\n",
       "      <th>ambientes</th>\n",
       "      <td>28.314995</td>\n",
       "      <td>rooms</td>\n",
       "      <td>Despues</td>\n",
       "    </tr>\n",
       "  </tbody>\n",
       "</table>\n",
       "</div>"
      ],
      "text/plain": [
       "                     Nulos    variables   cuando\n",
       "price_aprox_usd  14.996830  price_dolar    Antes\n",
       "price_dolar      13.174875  price_dolar  Despues\n",
       "rooms            60.279112        rooms    Antes\n",
       "ambientes        28.314995        rooms  Despues"
      ]
     },
     "execution_count": 73,
     "metadata": {},
     "output_type": "execute_result"
    }
   ],
   "source": [
    "type(pct_nulos1)\n",
    "nulos_graf = pd.DataFrame(pct_nulos1[[\"price_aprox_usd\",\"price_dolar\",\"rooms\",\"ambientes\"]]*100,columns=[\"Nulos\"])\n",
    "nulos_graf[\"variables\"] = [\"price_dolar\",\"price_dolar\",\"rooms\",\"rooms\"]\n",
    "nulos_graf[\"cuando\"] = [\"Antes\",\"Despues\",\"Antes\",\"Despues\"]\n",
    "nulos_graf\n",
    " # pd.DataFrame(data =[pct_nulos1[[\"price_aprox_usd\",\"price_dolar\",\"rooms\",\"ambientes\"]].values,[\"antes\"]])\n",
    "# pct_nulos1[[\"price_aprox_usd\",\"price_dolar\",\"rooms\",\"ambientes\"]].values"
   ]
  },
  {
   "cell_type": "code",
   "execution_count": 79,
   "metadata": {},
   "outputs": [
    {
     "data": {
      "image/png": "[encoded data removed]",
      "text/plain": [
       "<Figure size 432x288 with 1 Axes>"
      ]
     },
     "metadata": {
      "needs_background": "light"
     },
     "output_type": "display_data"
    }
   ],
   "source": [
    "grafico_nulos = sns.barplot(x=\"variables\", y=\"Nulos\", hue=\"cuando\", data=nulos_graf)\n",
    "grafico_nulos."
   ]
  },
  {
   "cell_type": "code",
   "execution_count": 100,
   "metadata": {},
   "outputs": [
    {
     "data": {
      "text/plain": [
       "Index(['Unnamed: 0', 'operation', 'property_type', 'place_name',\n",
       "       'place_with_parent_names', 'country_name', 'state_name', 'geonames_id',\n",
       "       'lat-lon', 'lat', 'lon', 'price', 'currency',\n",
       "       'price_aprox_local_currency', 'price_aprox_usd', 'surface_total_in_m2',\n",
       "       'surface_covered_in_m2', 'price_usd_per_m2', 'price_per_m2', 'floor',\n",
       "       'rooms', 'expenses', 'properati_url', 'description', 'title',\n",
       "       'image_thumbnail', 'price_dolar', 'ambientes', 'price_m2_dolar',\n",
       "       'pileta', 'pricem2_covered_usd', 'pricem2_total_usd'],\n",
       "      dtype='object')"
      ]
     },
     "execution_count": 100,
     "metadata": {},
     "output_type": "execute_result"
    }
   ],
   "source": [
    "data1.keys()"
   ]
  },
  {
   "cell_type": "code",
   "execution_count": 104,
   "metadata": {},
   "outputs": [],
   "source": [
    "pairplot = data1[['price_dolar','surface_total_in_m2','surface_covered_in_m2','ambientes','pileta']].copy()\n",
    "pairplot.dropna(axis=0,how=\"all\",subset=[\"price_dolar\"],inplace=True)\n",
    "pairplot.drop(pairplot[pairplot.price_dolar <= 0].index,inplace=True)\n",
    "pairplot[\"price_dolar\"] = np.log(pairplot[\"price_dolar\"])"
   ]
  },
  {
   "cell_type": "code",
   "execution_count": 115,
   "metadata": {},
   "outputs": [
    {
     "data": {
      "text/html": [
       "<div>\n",
       "<style scoped>\n",
       "    .dataframe tbody tr th:only-of-type {\n",
       "        vertical-align: middle;\n",
       "    }\n",
       "\n",
       "    .dataframe tbody tr th {\n",
       "        vertical-align: top;\n",
       "    }\n",
       "\n",
       "    .dataframe thead th {\n",
       "        text-align: right;\n",
       "    }\n",
       "</style>\n",
       "<table border=\"1\" class=\"dataframe\">\n",
       "  <thead>\n",
       "    <tr style=\"text-align: right;\">\n",
       "      <th></th>\n",
       "      <th>price_dolar</th>\n",
       "      <th>surface_total_in_m2</th>\n",
       "      <th>surface_covered_in_m2</th>\n",
       "      <th>ambientes</th>\n",
       "      <th>pileta</th>\n",
       "    </tr>\n",
       "  </thead>\n",
       "  <tbody>\n",
       "    <tr>\n",
       "      <th>count</th>\n",
       "      <td>99979.000000</td>\n",
       "      <td>68347.000000</td>\n",
       "      <td>87074.000000</td>\n",
       "      <td>72929.000000</td>\n",
       "      <td>99979.000000</td>\n",
       "    </tr>\n",
       "    <tr>\n",
       "      <th>mean</th>\n",
       "      <td>11.993561</td>\n",
       "      <td>228.703937</td>\n",
       "      <td>131.002217</td>\n",
       "      <td>2.915809</td>\n",
       "      <td>0.237520</td>\n",
       "    </tr>\n",
       "    <tr>\n",
       "      <th>std</th>\n",
       "      <td>0.809058</td>\n",
       "      <td>1714.419825</td>\n",
       "      <td>748.874797</td>\n",
       "      <td>2.242195</td>\n",
       "      <td>0.425566</td>\n",
       "    </tr>\n",
       "    <tr>\n",
       "      <th>min</th>\n",
       "      <td>5.834811</td>\n",
       "      <td>0.000000</td>\n",
       "      <td>0.000000</td>\n",
       "      <td>0.000000</td>\n",
       "      <td>0.000000</td>\n",
       "    </tr>\n",
       "    <tr>\n",
       "      <th>25%</th>\n",
       "      <td>11.407565</td>\n",
       "      <td>50.000000</td>\n",
       "      <td>45.000000</td>\n",
       "      <td>2.000000</td>\n",
       "      <td>0.000000</td>\n",
       "    </tr>\n",
       "    <tr>\n",
       "      <th>50%</th>\n",
       "      <td>11.884489</td>\n",
       "      <td>85.000000</td>\n",
       "      <td>75.000000</td>\n",
       "      <td>3.000000</td>\n",
       "      <td>0.000000</td>\n",
       "    </tr>\n",
       "    <tr>\n",
       "      <th>75%</th>\n",
       "      <td>12.487840</td>\n",
       "      <td>205.000000</td>\n",
       "      <td>150.000000</td>\n",
       "      <td>4.000000</td>\n",
       "      <td>0.000000</td>\n",
       "    </tr>\n",
       "    <tr>\n",
       "      <th>max</th>\n",
       "      <td>17.655940</td>\n",
       "      <td>200000.000000</td>\n",
       "      <td>187000.000000</td>\n",
       "      <td>91.000000</td>\n",
       "      <td>1.000000</td>\n",
       "    </tr>\n",
       "  </tbody>\n",
       "</table>\n",
       "</div>"
      ],
      "text/plain": [
       "        price_dolar  surface_total_in_m2  surface_covered_in_m2     ambientes  \\\n",
       "count  99979.000000         68347.000000           87074.000000  72929.000000   \n",
       "mean      11.993561           228.703937             131.002217      2.915809   \n",
       "std        0.809058          1714.419825             748.874797      2.242195   \n",
       "min        5.834811             0.000000               0.000000      0.000000   \n",
       "25%       11.407565            50.000000              45.000000      2.000000   \n",
       "50%       11.884489            85.000000              75.000000      3.000000   \n",
       "75%       12.487840           205.000000             150.000000      4.000000   \n",
       "max       17.655940        200000.000000          187000.000000     91.000000   \n",
       "\n",
       "             pileta  \n",
       "count  99979.000000  \n",
       "mean       0.237520  \n",
       "std        0.425566  \n",
       "min        0.000000  \n",
       "25%        0.000000  \n",
       "50%        0.000000  \n",
       "75%        0.000000  \n",
       "max        1.000000  "
      ]
     },
     "execution_count": 115,
     "metadata": {},
     "output_type": "execute_result"
    }
   ],
   "source": [
    "pairplot.describe()"
   ]
  },
  {
   "cell_type": "code",
   "execution_count": 153,
   "metadata": {},
   "outputs": [
    {
     "data": {
      "text/plain": [
       "398.5"
      ]
     },
     "execution_count": 153,
     "metadata": {},
     "output_type": "execute_result"
    }
   ],
   "source": [
    "type(lim_sup(pairplot['surface_total_in_m2']))\n",
    "# pairplot.surface_total_in_m2.quantile(q=0.75)\n",
    "lim_sup(pairplot1.surface_total_in_m2)"
   ]
  },
  {
   "cell_type": "code",
   "execution_count": 164,
   "metadata": {},
   "outputs": [],
   "source": [
    "def lim_inf(serie):\n",
    "    q1 = serie.quantile(q=0.25)\n",
    "    q3 = serie.quantile(q=0.75)\n",
    "    lim_inf = q1 - (q3-q1) * 1.5\n",
    "    return lim_inf\n",
    "def lim_sup(serie):\n",
    "    q1 = serie.quantile(q=0.25)\n",
    "    q3 = serie.quantile(q=0.75)\n",
    "    lim_sup= q3 + (q3-q1)*1.5\n",
    "    return lim_sup\n",
    "pairplot1 = pairplot[(pairplot.ambientes > lim_inf(pairplot.ambientes)) & (pairplot.ambientes <= lim_sup(pairplot.ambientes))]\n",
    "pairplot2 = pairplot1[(pairplot1.surface_total_in_m2 >= lim_inf(pairplot1.surface_total_in_m2)) & (pairplot1.surface_total_in_m2 <= lim_sup(pairplot1.surface_total_in_m2))]\n",
    "pairplot3 = pairplot2[(pairplot2.surface_covered_in_m2 >= lim_inf(pairplot2.surface_covered_in_m2)) & (pairplot2.surface_covered_in_m2 <= lim_sup(pairplot2.surface_covered_in_m2))]\n",
    "# pairplot.surface_total_in_m2 > lim_inf(pairplot.surface_total_in_m2)"
   ]
  },
  {
   "cell_type": "code",
   "execution_count": 165,
   "metadata": {},
   "outputs": [
    {
     "data": {
      "text/plain": [
       "<seaborn.axisgrid.PairGrid at 0x28d4add7b48>"
      ]
     },
     "execution_count": 165,
     "metadata": {},
     "output_type": "execute_result"
    },
    {
     "data": {
      "image/png": "[encoded data removed]",
      "text/plain": [
       "<Figure size 900x900 with 30 Axes>"
      ]
     },
     "metadata": {
      "needs_background": "light"
     },
     "output_type": "display_data"
    }
   ],
   "source": [
    "sns.pairplot(data=pairplot3)"
   ]
  },
  {
   "cell_type": "markdown",
   "metadata": {},
   "source": [
    "## Empiezo con geonames id"
   ]
  },
  {
   "cell_type": "code",
   "execution_count": null,
   "metadata": {},
   "outputs": [],
   "source": [
    "geoid_tot= data1.groupby(\"place_name\").geonames_id.value_counts()\n",
    "place_sin_geoid= data1[data1.geonames_id.isnull()].groupby(\"place_name\").geonames_id.count()"
   ]
  },
  {
   "cell_type": "code",
   "execution_count": null,
   "metadata": {},
   "outputs": [],
   "source": [
    "grupos_id = data1.groupby(\"place_name\")[\"geonames_id\"].value_counts()\n",
    "grupos_id.loc[\"San Miguel\"]"
   ]
  },
  {
   "cell_type": "code",
   "execution_count": null,
   "metadata": {},
   "outputs": [],
   "source": [
    "data1.keys()"
   ]
  },
  {
   "cell_type": "code",
   "execution_count": null,
   "metadata": {},
   "outputs": [],
   "source": [
    "# grupos_id.loc[row.pla].index[0]\n",
    "prueba = data1[data1.geonames_id.isnull()]"
   ]
  },
  {
   "cell_type": "code",
   "execution_count": null,
   "metadata": {},
   "outputs": [],
   "source": [
    "# for index,row in data1[data1.geonames_id.isnull()].iterrows():\n",
    "contador = 0\n",
    "for index,row in data1.iterrows():\n",
    "    if np.isnan(row.geonames_id):\n",
    "        try:\n",
    "            row.geonames_id = grupos_id.loc[row.place_name].index[0]\n",
    "        except:\n",
    "            contador +=1\n",
    "contador        \n",
    "#     except:\n",
    "#         print(row.place_name)"
   ]
  },
  {
   "cell_type": "code",
   "execution_count": null,
   "metadata": {},
   "outputs": [],
   "source": [
    "data1.geonames_id.isnull().sum(),data.geonames_id.isnull().sum()"
   ]
  },
  {
   "cell_type": "code",
   "execution_count": null,
   "metadata": {},
   "outputs": [],
   "source": [
    "mask_geo_place_null = data1.geonames_id.isnull()\n",
    "df_geoname_null = data1.loc[mask_geo_place_null,:]\n",
    "df_geoname_null.shape,prueba.shape"
   ]
  },
  {
   "cell_type": "code",
   "execution_count": null,
   "metadata": {},
   "outputs": [],
   "source": [
    "contador2 = 0\n",
    "for index,row in df_geoname_null.iterrows():\n",
    "    if np.isnan(row.geonames_id):\n",
    "        try:\n",
    "            row.geonames_id = datos_agrupados.loc[row.place_name].index[0]\n",
    "            #print(row.geonames_id)\n",
    "        except:\n",
    "            contador2+=1\n",
    "\n",
    "print(contador2)"
   ]
  },
  {
   "cell_type": "code",
   "execution_count": null,
   "metadata": {},
   "outputs": [],
   "source": [
    "data1[data1.place_name == \"San Miguel\"].geonames_id.isnull().sum()"
   ]
  }
 ],
 "metadata": {
  "kernelspec": {
   "display_name": "Python 3",
   "language": "python",
   "name": "python3"
  },
  "language_info": {
   "codemirror_mode": {
    "name": "ipython",
    "version": 3
   },
   "file_extension": ".py",
   "mimetype": "text/x-python",
   "name": "python",
   "nbconvert_exporter": "python",
   "pygments_lexer": "ipython3",
   "version": "3.7.7"
  }
 },
 "nbformat": 4,
 "nbformat_minor": 4
}
