{
 "cells": [
  {
   "cell_type": "code",
   "execution_count": 1,
   "metadata": {},
   "outputs": [],
   "source": [
    "import pandas as pd\n",
    "import numpy as np\n",
    "import matplotlib as mpl\n",
    "import matplotlib.pyplot as plt\n",
    "import seaborn as sns \n",
    "pd.set_option('display.max_columns', None)"
   ]
  },
  {
   "cell_type": "code",
   "execution_count": 2,
   "metadata": {},
   "outputs": [],
   "source": [
    "data = pd.read_csv(\"properati.csv\")"
   ]
  },
  {
   "cell_type": "code",
   "execution_count": 3,
   "metadata": {},
   "outputs": [
    {
     "data": {
      "text/plain": [
       "(121220, 26)"
      ]
     },
     "execution_count": 3,
     "metadata": {},
     "output_type": "execute_result"
    }
   ],
   "source": [
    "data.shape"
   ]
  },
  {
   "cell_type": "code",
   "execution_count": 4,
   "metadata": {},
   "outputs": [
    {
     "data": {
      "text/plain": [
       "((115151, 26), (121220, 26))"
      ]
     },
     "execution_count": 4,
     "metadata": {},
     "output_type": "execute_result"
    }
   ],
   "source": [
    "# borro los duplicados son 6 mil\n",
    "data1 = data.drop_duplicates(subset=[\"property_type\",\"place_name\",\"geonames_id\",\"lat-lon\",\"price\",\"surface_total_in_m2\",\"surface_covered_in_m2\",\"description\"],keep=\"first\")\n",
    "data1.shape,data.shape"
   ]
  },
  {
   "cell_type": "code",
   "execution_count": 5,
   "metadata": {},
   "outputs": [
    {
     "data": {
      "text/plain": [
       "(6069, 13873, 12560)"
      ]
     },
     "execution_count": 5,
     "metadata": {},
     "output_type": "execute_result"
    }
   ],
   "source": [
    "desc_dupl = data.duplicated(subset=[\"property_type\",\"place_name\",\"geonames_id\",\"lat-lon\",\"price\",\"surface_total_in_m2\",\"surface_covered_in_m2\",\"description\"])\n",
    "sindesc_dupl = data.duplicated(subset=[\"property_type\",\"place_name\",\"geonames_id\",\"lat-lon\",\"price\",\"surface_total_in_m2\",\"surface_covered_in_m2\"])\n",
    "sindesc_dupl1 = data1.duplicated(subset=[\"property_type\",\"place_name\",\"geonames_id\",\"lat-lon\",\"price\",\"surface_total_in_m2\",\"surface_covered_in_m2\"],keep = False)\n",
    "desc_dupl.sum(),sindesc_dupl.sum(),sindesc_dupl1.sum()\n",
    "# pd.set_option('display.max_colwidth', None)\n",
    "# des= data1.duplicated(subset=[\"description\"])\n",
    "# data1[sindesc_dupl1].head()"
   ]
  },
  {
   "cell_type": "code",
   "execution_count": 6,
   "metadata": {},
   "outputs": [
    {
     "data": {
      "text/plain": [
       "(115151, 115151)"
      ]
     },
     "execution_count": 6,
     "metadata": {},
     "output_type": "execute_result"
    }
   ],
   "source": [
    "#me fijo si los nulos son iguales en las columnas de precios. \n",
    "(data1.price.isnull() == data1.price_aprox_usd.isnull()).sum(),data1.shape[0]\n",
    "(data1.price.isnull() == data1.price_aprox_local_currency.isnull()).sum(),data1.shape[0]"
   ]
  },
  {
   "cell_type": "code",
   "execution_count": 7,
   "metadata": {},
   "outputs": [
    {
     "data": {
      "text/plain": [
       "True"
      ]
     },
     "execution_count": 7,
     "metadata": {},
     "output_type": "execute_result"
    }
   ],
   "source": [
    "# Me fijo si los nulos estan en la misma fila en ambas columnas\n",
    "set(data1.price.isnull().index).issubset(set(data1.price_aprox_usd.isnull().index))\n",
    "set(data1.price.isnull().index).issubset(set(data1.price_aprox_local_currency.isnull().index))"
   ]
  },
  {
   "cell_type": "code",
   "execution_count": 9,
   "metadata": {},
   "outputs": [],
   "source": [
    "# quiero ver de donde sale el precio por metro cuadrado \n",
    "# preciom2 = data.price_aprox_local_currency / data.surface_total_in_m2\n",
    "# preciom2usd = data.price_aprox_usd / data.surface_total_in_m2\n",
    "# preciototal = data.price / data.surface_total_in_m2\n",
    "# preciototal_cov = data.price / data.surface_covered_in_m2\n",
    "# (preciom2 == data.price_per_m2).sum(),(preciom2usd == data.price_usd_per_m2).sum(),(preciototal == data.price_usd_per_m2).sum(),(preciototal == data.price_per_m2).sum(),(preciototal_cov == data.price_per_m2).sum()\n",
    "# # preciom2cov = data.price_aprox_local_currency / data.price_per_m2\n",
    "# # veo el total de resultados que obtuve \n",
    "# (preciototal == data.price_usd_per_m2).sum() + (preciototal == data.price_per_m2).sum() + (preciototal_cov == data.price_per_m2).sum(),"
   ]
  },
  {
   "cell_type": "code",
   "execution_count": 10,
   "metadata": {},
   "outputs": [],
   "source": [
    "# veo la cantidad que hay \n",
    "# data.price_usd_per_m2.dropna().size,data.price_usd_per_m2.size"
   ]
  },
  {
   "cell_type": "markdown",
   "metadata": {},
   "source": [
    "## empiezo a usar los regex para completar los precios en dolares "
   ]
  },
  {
   "cell_type": "code",
   "execution_count": 8,
   "metadata": {},
   "outputs": [],
   "source": [
    "import re"
   ]
  },
  {
   "cell_type": "code",
   "execution_count": 9,
   "metadata": {},
   "outputs": [
    {
     "data": {
      "text/plain": [
       "(97882, 17269)"
      ]
     },
     "execution_count": 9,
     "metadata": {},
     "output_type": "execute_result"
    }
   ],
   "source": [
    "data1.price_aprox_usd.notnull().sum(),data1.price_aprox_usd.isnull().sum()"
   ]
  },
  {
   "cell_type": "markdown",
   "metadata": {},
   "source": [
    "Floor"
   ]
  },
  {
   "cell_type": "code",
   "execution_count": 10,
   "metadata": {},
   "outputs": [
    {
     "data": {
      "text/plain": [
       "7462"
      ]
     },
     "execution_count": 10,
     "metadata": {},
     "output_type": "execute_result"
    }
   ],
   "source": [
    "m_pisos = data1.floor.notnull()\n",
    "pisos = data1.loc[m_pisos, :]\n",
    "pisos.floor.count()"
   ]
  },
  {
   "cell_type": "code",
   "execution_count": 11,
   "metadata": {},
   "outputs": [
    {
     "data": {
      "text/plain": [
       "0         True\n",
       "1         True\n",
       "2         True\n",
       "3         True\n",
       "4         True\n",
       "          ... \n",
       "121215    True\n",
       "121216    True\n",
       "121217    True\n",
       "121218    True\n",
       "121219    True\n",
       "Name: floor, Length: 115151, dtype: bool"
      ]
     },
     "execution_count": 11,
     "metadata": {},
     "output_type": "execute_result"
    }
   ],
   "source": [
    "data1.floor.isnull()"
   ]
  },
  {
   "cell_type": "code",
   "execution_count": 12,
   "metadata": {},
   "outputs": [],
   "source": [
    "m_tipo_propiedad = data1.property_type == ('apartment')\n",
    "tipo_propiedad = data1.loc[m_tipo_propiedad,:]\n",
    "\n",
    "m_pisos = tipo_propiedad.floor.isnull()\n",
    "pisos_nulos = tipo_propiedad.loc[m_pisos, :]"
   ]
  },
  {
   "cell_type": "code",
   "execution_count": 24,
   "metadata": {},
   "outputs": [],
   "source": [
    "# estilo #ºer piso\n",
    "\n",
    "# busco pisos en titulo\n",
    "pat_pisos = r\"(?P<pisos>\\d?\\d)(([^A-z]{1,2}?)|([A-z]{2,3})?(\\s?))([pP][iI][sS][oO])\"\n",
    "regexs_piso = re.compile(pat_pisos)\n",
    "pisos_tit = pisos_nulos.title.apply(lambda x: regexs_piso.search(str(x)))\n",
    "pisos_limpio = pisos_tit[pisos_tit.notnull()].apply(lambda x: x.group('pisos')).copy()\n",
    "data1.loc[pisos_limpio.index,'floor'] = pisos_limpio.astype(float)\n",
    "\n",
    "m_pisos2 = tipo_propiedad.floor.isnull()\n",
    "pisos_nulos2 = tipo_propiedad.loc[m_pisos2, :]\n",
    "\n",
    "# busco pisos en description\n",
    "pat_pisos = r\"(?P<pisos>\\d?\\d)(([^A-z]{1,2}?)|([A-z]{2,3})?(\\s?))([pP][iI][sS][oO])\"\n",
    "regexs_piso = re.compile(pat_pisos)\n",
    "pisos_desc = pisos_nulos2.description.apply(lambda x: regexs_piso.search(str(x)))\n",
    "pisos_limpio_2 = pisos_desc[pisos_desc.notnull()].apply(lambda x: x.group('pisos')).copy()\n",
    "data1.loc[pisos_limpio_2.index,'floor'] = pisos_limpio_2.astype(float)\n"
   ]
  },
  {
   "cell_type": "code",
   "execution_count": 25,
   "metadata": {},
   "outputs": [],
   "source": [
    "m_pisos = tipo_propiedad.floor.isnull()\n",
    "pisos_nulos = tipo_propiedad.loc[m_pisos, :]\n",
    "\n",
    "#estilo piso ##\n",
    "\n",
    "# busco pisos en titulo \n",
    "pat_pisos = r\"([pP][iI][sS][oO])(\\s?)(?P<pisos>\\d?\\d)\"\n",
    "regexs_piso = re.compile(pat_pisos)\n",
    "pisos_tit = pisos_nulos.title.apply(lambda x: regexs_piso.search(str(x)))\n",
    "pisos_limpio = pisos_tit[pisos_tit.notnull()].apply(lambda x: x.group('pisos')).copy()\n",
    "data1.loc[pisos_limpio.index,'floor'] = pisos_limpio.astype(float)\n",
    "\n",
    "m_pisos2 = tipo_propiedad.floor.isnull()\n",
    "pisos_nulos2 = tipo_propiedad.loc[m_pisos2, :]\n",
    "\n",
    "# busco pisos en description\n",
    "pat_pisos = r\"([pP][iI][sS][oO])(\\s?)(?P<pisos>\\d?\\d)\"\n",
    "regexs_piso = re.compile(pat_pisos)\n",
    "pisos_desc = pisos_nulos2.description.apply(lambda x: regexs_piso.search(str(x)))\n",
    "pisos_limpio_2 = pisos_desc[pisos_desc.notnull()].apply(lambda x: x.group('pisos')).copy()\n",
    "data1.loc[pisos_limpio_2.index,'floor'] = pisos_limpio_2.astype(float)"
   ]
  },
  {
   "cell_type": "code",
   "execution_count": 26,
   "metadata": {},
   "outputs": [],
   "source": [
    "m_pisos = tipo_propiedad.floor.isnull()\n",
    "pisos_nulos = tipo_propiedad.loc[m_pisos, :]\n",
    "#estilo PB \n",
    "\n",
    "# busco pisos en titulo \n",
    "pat_pisos = r\"(?P<pisos>[pP][bB])\"\n",
    "regexs_piso = re.compile(pat_pisos)\n",
    "pisos_tit = pisos_nulos.title.apply(lambda x: regexs_piso.search(str(x)))\n",
    "pisos_limpio = pisos_tit[pisos_tit.notnull()].apply(lambda x: x.group('pisos')).copy()\n",
    "data1.loc[pisos_limpio.index,'floor'] = pisos_limpio\n",
    "\n",
    "m_pisos2 = tipo_propiedad.floor.isnull()\n",
    "pisos_nulos2 = tipo_propiedad.loc[m_pisos2, :]\n",
    "\n",
    "# busco pisos en description\n",
    "pat_pisos = r\"(?P<pisos>[pP][bB])\"\n",
    "regexs_piso = re.compile(pat_pisos)\n",
    "pisos_desc = pisos_nulos2.description.apply(lambda x: regexs_piso.search(str(x)))\n",
    "pisos_limpio_2 = pisos_desc[pisos_desc.notnull()].apply(lambda x: x.group('pisos')).copy()\n",
    "data1.loc[pisos_limpio_2.index,'floor'] = pisos_limpio_2"
   ]
  },
  {
   "cell_type": "code",
   "execution_count": 27,
   "metadata": {},
   "outputs": [
    {
     "name": "stdout",
     "output_type": "stream",
     "text": [
      "270\n",
      "3172\n"
     ]
    }
   ],
   "source": [
    "print(pisos_limpio.count().sum())\n",
    "print(pisos_limpio_2.count().sum())"
   ]
  },
  {
   "cell_type": "code",
   "execution_count": 28,
   "metadata": {},
   "outputs": [
    {
     "data": {
      "text/plain": [
       "59539"
      ]
     },
     "execution_count": 28,
     "metadata": {},
     "output_type": "execute_result"
    }
   ],
   "source": [
    "tipo_propiedad.floor.isnull().sum()"
   ]
  },
  {
   "cell_type": "code",
   "execution_count": 29,
   "metadata": {},
   "outputs": [
    {
     "data": {
      "text/plain": [
       "45029"
      ]
     },
     "execution_count": 29,
     "metadata": {},
     "output_type": "execute_result"
    }
   ],
   "source": [
    "m_tipo_propiedad2 = data1.property_type == ('apartment')\n",
    "tipo_propiedad2 = data1.loc[m_tipo_propiedad2,:]\n",
    "tipo_propiedad2.floor.isnull().sum()"
   ]
  },
  {
   "cell_type": "code",
   "execution_count": 30,
   "metadata": {},
   "outputs": [
    {
     "data": {
      "text/plain": [
       "property_type\n",
       "PH            5597\n",
       "apartment    65842\n",
       "house        39653\n",
       "store         4059\n",
       "dtype: int64"
      ]
     },
     "execution_count": 30,
     "metadata": {},
     "output_type": "execute_result"
    }
   ],
   "source": [
    "data1_grouped = data1.groupby('property_type')\n",
    "data1_grouped.size()"
   ]
  },
  {
   "cell_type": "code",
   "execution_count": 31,
   "metadata": {},
   "outputs": [
    {
     "data": {
      "text/plain": [
       "0                                                      None\n",
       "1         <re.Match object; span=(333, 340), match='coch...\n",
       "2                                                      None\n",
       "3                                                      None\n",
       "4                                                      None\n",
       "                                ...                        \n",
       "121215    <re.Match object; span=(202, 209), match='Coch...\n",
       "121216    <re.Match object; span=(749, 755), match='Gara...\n",
       "121217                                                 None\n",
       "121218                                                 None\n",
       "121219                                                 None\n",
       "Name: description, Length: 115151, dtype: object"
      ]
     },
     "execution_count": 31,
     "metadata": {},
     "output_type": "execute_result"
    }
   ],
   "source": [
    "#Hago un regex para saber si tiene cochera  \n",
    "pat_cochera = r'(?P<cochera>([Cc]ochera)|([Gg]ara[gj]e)s?)'\n",
    "regex_cochera = re.compile(pat_cochera)\n",
    "cochera1= data1.description.apply(lambda x: regex_cochera.search(str(x)))\n",
    "cochera1"
   ]
  },
  {
   "cell_type": "code",
   "execution_count": 32,
   "metadata": {},
   "outputs": [
    {
     "data": {
      "text/plain": [
       "0         0.0\n",
       "1         1.0\n",
       "2         0.0\n",
       "3         0.0\n",
       "4         0.0\n",
       "         ... \n",
       "121215    1.0\n",
       "121216    1.0\n",
       "121217    0.0\n",
       "121218    0.0\n",
       "121219    0.0\n",
       "Name: cochera, Length: 115151, dtype: float64"
      ]
     },
     "execution_count": 32,
     "metadata": {},
     "output_type": "execute_result"
    }
   ],
   "source": [
    "# creo la columna cochera, asignandole 1 si tiene y 0 sino tiene \n",
    "data1.loc[cochera1.notnull(),'cochera'] = 1\n",
    "data1.loc[cochera1.isnull(),'cochera'] = 0\n",
    "data1.cochera"
   ]
  },
  {
   "cell_type": "code",
   "execution_count": 33,
   "metadata": {},
   "outputs": [
    {
     "data": {
      "text/plain": [
       "0.0    73295\n",
       "1.0    41856\n",
       "Name: cochera, dtype: int64"
      ]
     },
     "execution_count": 33,
     "metadata": {},
     "output_type": "execute_result"
    }
   ],
   "source": [
    "data1.cochera.value_counts()"
   ]
  },
  {
   "cell_type": "code",
   "execution_count": 34,
   "metadata": {},
   "outputs": [
    {
     "data": {
      "text/plain": [
       "Unnamed: 0                        0\n",
       "operation                         0\n",
       "property_type                     0\n",
       "place_name                       23\n",
       "place_with_parent_names           0\n",
       "country_name                      0\n",
       "state_name                        0\n",
       "geonames_id                   18717\n",
       "lat-lon                        8185\n",
       "lat                            8185\n",
       "lon                            8185\n",
       "price                          1765\n",
       "currency                       1765\n",
       "price_aprox_local_currency     1765\n",
       "price_aprox_usd                1765\n",
       "surface_total_in_m2            5499\n",
       "surface_covered_in_m2          2053\n",
       "price_usd_per_m2               7021\n",
       "price_per_m2                   3567\n",
       "floor                         17911\n",
       "rooms                         12166\n",
       "expenses                      16407\n",
       "properati_url                     0\n",
       "description                       0\n",
       "title                             0\n",
       "image_thumbnail                 395\n",
       "dtype: int64"
      ]
     },
     "execution_count": 34,
     "metadata": {},
     "output_type": "execute_result"
    }
   ],
   "source": [
    "mask_geo_place_null = data.geonames_id.isnull()\n",
    "df_geoname_null = data.loc[mask_geo_place_null,:]\n",
    "df_geoname_null.isnull().sum()"
   ]
  },
  {
   "cell_type": "code",
   "execution_count": null,
   "metadata": {},
   "outputs": [],
   "source": []
  },
  {
   "cell_type": "code",
   "execution_count": null,
   "metadata": {},
   "outputs": [],
   "source": []
  }
 ],
 "metadata": {
  "kernelspec": {
   "display_name": "Python 3",
   "language": "python",
   "name": "python3"
  },
  "language_info": {
   "codemirror_mode": {
    "name": "ipython",
    "version": 3
   },
   "file_extension": ".py",
   "mimetype": "text/x-python",
   "name": "python",
   "nbconvert_exporter": "python",
   "pygments_lexer": "ipython3",
   "version": "3.7.7"
  }
 },
 "nbformat": 4,
 "nbformat_minor": 4
}
